{
 "cells": [
  {
   "cell_type": "markdown",
   "metadata": {},
   "source": [
    "# Проект: \"Разработка модели предсказания коэффициент восстановления золота из золотосодержащей руды\""
   ]
  },
  {
   "cell_type": "markdown",
   "metadata": {},
   "source": [
    "## 1. Введение"
   ]
  },
  {
   "cell_type": "markdown",
   "metadata": {},
   "source": [
    "Цель работы - подготовка модели прогноза коэффициента восстановления золота из золотосодержащей руды для оптимизации производства. \n",
    "\n",
    "Технологический процесс делиться на две стадии:\n",
    "\n",
    "1. Флотация\n",
    "\n",
    "Во флотационную установку подаётся смесь золотосодержащей руды. После обогащения получается черновой концентрат и «отвальные хвосты», то есть остатки продукта с низкой концентрацией ценных металлов.\n",
    "На стабильность этого процесса влияет непостоянное и неоптимальное физико-химическое состояние флотационной пульпы (смеси твёрдых частиц и жидкости).\n",
    "\n",
    "2. Очистка\n",
    "\n",
    "Черновой концентрат проходит две очистки. На выходе получается финальный концентрат и новые отвальные хвосты\n",
    "\n",
    "При подготовки модели необходимо спрогнозировать две величины:\n",
    "\n",
    "1.\tэффективность обогащения чернового концентрата;\n",
    "2.\tэффективность обогащения финального концентрата.\n",
    "\n",
    "\n",
    "Основные шаги:\n",
    "\n",
    "- Обзор и проверка данных\n",
    "- Подготовка данных\n",
    "- Исследовательский анализ данных\n",
    "- Обучение моделей\n",
    "- Тестирование лучшей модели\n",
    "- Вывод\n"
   ]
  },
  {
   "cell_type": "markdown",
   "metadata": {},
   "source": [
    "## 2. Подготовка данных"
   ]
  },
  {
   "cell_type": "markdown",
   "metadata": {},
   "source": [
    "### 2.1 Обзор и проверка данных"
   ]
  },
  {
   "cell_type": "markdown",
   "metadata": {},
   "source": [
    "Импортируем требуемые библиотеки:"
   ]
  },
  {
   "cell_type": "code",
   "execution_count": 1,
   "metadata": {},
   "outputs": [],
   "source": [
    "import pandas as pd\n",
    "import numpy as np\n",
    "import matplotlib.pyplot as plt\n",
    "import math as mt\n",
    "import scipy.stats as st\n",
    "import seaborn as sns\n",
    "import os\n",
    "\n",
    "from sklearn.model_selection import train_test_split, cross_val_score\n",
    "from sklearn.metrics import mean_squared_error, mean_absolute_error, make_scorer\n",
    "from sklearn.metrics import confusion_matrix, ConfusionMatrixDisplay, plot_confusion_matrix\n",
    "\n",
    "from sklearn.linear_model import LinearRegression\n",
    "from sklearn.tree import DecisionTreeRegressor\n",
    "from sklearn.ensemble import RandomForestRegressor\n",
    "\n",
    "\n",
    "\n",
    "from sklearn.dummy import DummyRegressor\n",
    "from sklearn.preprocessing import StandardScaler \n",
    "from sklearn.utils import shuffle"
   ]
  },
  {
   "cell_type": "markdown",
   "metadata": {},
   "source": [
    "Загрузим предоставленные данные:"
   ]
  },
  {
   "cell_type": "code",
   "execution_count": 2,
   "metadata": {},
   "outputs": [],
   "source": [
    "pth1 = 'datasets/gold_recovery_train_new.csv'\n",
    "pth2 = '/datasets/gold_recovery_train_new.csv'\n",
    "if os.path.exists(pth1):\n",
    "    df_gold_recovery_train = pd.read_csv(pth1)\n",
    "elif os.path.exists(pth2):\n",
    "    df_gold_recovery_train = pd.read_csv(pth2)\n",
    "else:\n",
    "    print(\"Проверьте правильность пути к датасету\")"
   ]
  },
  {
   "cell_type": "code",
   "execution_count": 3,
   "metadata": {},
   "outputs": [],
   "source": [
    "pth1 = 'datasets/gold_recovery_test_new.csv'\n",
    "pth2 = '/datasets/gold_recovery_test_new.csv'\n",
    "if os.path.exists(pth1):\n",
    "    df_gold_recovery_test = pd.read_csv(pth1)\n",
    "elif os.path.exists(pth2):\n",
    "    df_gold_recovery_test = pd.read_csv(pth2)\n",
    "else:\n",
    "    print(\"Проверьте правильность пути к датасету\")"
   ]
  },
  {
   "cell_type": "code",
   "execution_count": 4,
   "metadata": {},
   "outputs": [],
   "source": [
    "pth1 = 'datasets/gold_recovery_full_new.csv'\n",
    "pth2 = '/datasets/gold_recovery_full_new.csv'\n",
    "if os.path.exists(pth1):\n",
    "    df_gold_recovery_full = pd.read_csv(pth1)\n",
    "elif os.path.exists(pth2):\n",
    "    df_gold_recovery_full = pd.read_csv(pth2)\n",
    "else:\n",
    "    print(\"Проверьте правильность пути к датасету\")"
   ]
  },
  {
   "cell_type": "markdown",
   "metadata": {},
   "source": [
    "Изучим общую информацию по загруженным данным:"
   ]
  },
  {
   "cell_type": "code",
   "execution_count": 5,
   "metadata": {},
   "outputs": [
    {
     "name": "stdout",
     "output_type": "stream",
     "text": [
      "<class 'pandas.core.frame.DataFrame'>\n",
      "RangeIndex: 14149 entries, 0 to 14148\n",
      "Data columns (total 87 columns):\n",
      " #   Column                                              Non-Null Count  Dtype  \n",
      "---  ------                                              --------------  -----  \n",
      " 0   date                                                14149 non-null  object \n",
      " 1   final.output.concentrate_ag                         14148 non-null  float64\n",
      " 2   final.output.concentrate_pb                         14148 non-null  float64\n",
      " 3   final.output.concentrate_sol                        13938 non-null  float64\n",
      " 4   final.output.concentrate_au                         14149 non-null  float64\n",
      " 5   final.output.recovery                               14149 non-null  float64\n",
      " 6   final.output.tail_ag                                14149 non-null  float64\n",
      " 7   final.output.tail_pb                                14049 non-null  float64\n",
      " 8   final.output.tail_sol                               14144 non-null  float64\n",
      " 9   final.output.tail_au                                14149 non-null  float64\n",
      " 10  primary_cleaner.input.sulfate                       14129 non-null  float64\n",
      " 11  primary_cleaner.input.depressant                    14117 non-null  float64\n",
      " 12  primary_cleaner.input.feed_size                     14149 non-null  float64\n",
      " 13  primary_cleaner.input.xanthate                      14049 non-null  float64\n",
      " 14  primary_cleaner.output.concentrate_ag               14149 non-null  float64\n",
      " 15  primary_cleaner.output.concentrate_pb               14063 non-null  float64\n",
      " 16  primary_cleaner.output.concentrate_sol              13863 non-null  float64\n",
      " 17  primary_cleaner.output.concentrate_au               14149 non-null  float64\n",
      " 18  primary_cleaner.output.tail_ag                      14148 non-null  float64\n",
      " 19  primary_cleaner.output.tail_pb                      14134 non-null  float64\n",
      " 20  primary_cleaner.output.tail_sol                     14103 non-null  float64\n",
      " 21  primary_cleaner.output.tail_au                      14149 non-null  float64\n",
      " 22  primary_cleaner.state.floatbank8_a_air              14145 non-null  float64\n",
      " 23  primary_cleaner.state.floatbank8_a_level            14148 non-null  float64\n",
      " 24  primary_cleaner.state.floatbank8_b_air              14145 non-null  float64\n",
      " 25  primary_cleaner.state.floatbank8_b_level            14148 non-null  float64\n",
      " 26  primary_cleaner.state.floatbank8_c_air              14147 non-null  float64\n",
      " 27  primary_cleaner.state.floatbank8_c_level            14148 non-null  float64\n",
      " 28  primary_cleaner.state.floatbank8_d_air              14146 non-null  float64\n",
      " 29  primary_cleaner.state.floatbank8_d_level            14148 non-null  float64\n",
      " 30  rougher.calculation.sulfate_to_au_concentrate       14148 non-null  float64\n",
      " 31  rougher.calculation.floatbank10_sulfate_to_au_feed  14148 non-null  float64\n",
      " 32  rougher.calculation.floatbank11_sulfate_to_au_feed  14148 non-null  float64\n",
      " 33  rougher.calculation.au_pb_ratio                     14149 non-null  float64\n",
      " 34  rougher.input.feed_ag                               14149 non-null  float64\n",
      " 35  rougher.input.feed_pb                               14049 non-null  float64\n",
      " 36  rougher.input.feed_rate                             14141 non-null  float64\n",
      " 37  rougher.input.feed_size                             14005 non-null  float64\n",
      " 38  rougher.input.feed_sol                              14071 non-null  float64\n",
      " 39  rougher.input.feed_au                               14149 non-null  float64\n",
      " 40  rougher.input.floatbank10_sulfate                   14120 non-null  float64\n",
      " 41  rougher.input.floatbank10_xanthate                  14141 non-null  float64\n",
      " 42  rougher.input.floatbank11_sulfate                   14113 non-null  float64\n",
      " 43  rougher.input.floatbank11_xanthate                  13721 non-null  float64\n",
      " 44  rougher.output.concentrate_ag                       14149 non-null  float64\n",
      " 45  rougher.output.concentrate_pb                       14149 non-null  float64\n",
      " 46  rougher.output.concentrate_sol                      14127 non-null  float64\n",
      " 47  rougher.output.concentrate_au                       14149 non-null  float64\n",
      " 48  rougher.output.recovery                             14149 non-null  float64\n",
      " 49  rougher.output.tail_ag                              14148 non-null  float64\n",
      " 50  rougher.output.tail_pb                              14149 non-null  float64\n",
      " 51  rougher.output.tail_sol                             14149 non-null  float64\n",
      " 52  rougher.output.tail_au                              14149 non-null  float64\n",
      " 53  rougher.state.floatbank10_a_air                     14148 non-null  float64\n",
      " 54  rougher.state.floatbank10_a_level                   14148 non-null  float64\n",
      " 55  rougher.state.floatbank10_b_air                     14148 non-null  float64\n",
      " 56  rougher.state.floatbank10_b_level                   14148 non-null  float64\n",
      " 57  rougher.state.floatbank10_c_air                     14148 non-null  float64\n",
      " 58  rougher.state.floatbank10_c_level                   14148 non-null  float64\n",
      " 59  rougher.state.floatbank10_d_air                     14149 non-null  float64\n",
      " 60  rougher.state.floatbank10_d_level                   14149 non-null  float64\n",
      " 61  rougher.state.floatbank10_e_air                     13713 non-null  float64\n",
      " 62  rougher.state.floatbank10_e_level                   14149 non-null  float64\n",
      " 63  rougher.state.floatbank10_f_air                     14149 non-null  float64\n",
      " 64  rougher.state.floatbank10_f_level                   14149 non-null  float64\n",
      " 65  secondary_cleaner.output.tail_ag                    14147 non-null  float64\n",
      " 66  secondary_cleaner.output.tail_pb                    14139 non-null  float64\n",
      " 67  secondary_cleaner.output.tail_sol                   12544 non-null  float64\n",
      " 68  secondary_cleaner.output.tail_au                    14149 non-null  float64\n",
      " 69  secondary_cleaner.state.floatbank2_a_air            13932 non-null  float64\n",
      " 70  secondary_cleaner.state.floatbank2_a_level          14148 non-null  float64\n",
      " 71  secondary_cleaner.state.floatbank2_b_air            14128 non-null  float64\n",
      " 72  secondary_cleaner.state.floatbank2_b_level          14148 non-null  float64\n",
      " 73  secondary_cleaner.state.floatbank3_a_air            14145 non-null  float64\n",
      " 74  secondary_cleaner.state.floatbank3_a_level          14148 non-null  float64\n",
      " 75  secondary_cleaner.state.floatbank3_b_air            14148 non-null  float64\n",
      " 76  secondary_cleaner.state.floatbank3_b_level          14148 non-null  float64\n",
      " 77  secondary_cleaner.state.floatbank4_a_air            14143 non-null  float64\n",
      " 78  secondary_cleaner.state.floatbank4_a_level          14148 non-null  float64\n",
      " 79  secondary_cleaner.state.floatbank4_b_air            14148 non-null  float64\n",
      " 80  secondary_cleaner.state.floatbank4_b_level          14148 non-null  float64\n",
      " 81  secondary_cleaner.state.floatbank5_a_air            14148 non-null  float64\n",
      " 82  secondary_cleaner.state.floatbank5_a_level          14148 non-null  float64\n",
      " 83  secondary_cleaner.state.floatbank5_b_air            14148 non-null  float64\n",
      " 84  secondary_cleaner.state.floatbank5_b_level          14148 non-null  float64\n",
      " 85  secondary_cleaner.state.floatbank6_a_air            14147 non-null  float64\n",
      " 86  secondary_cleaner.state.floatbank6_a_level          14148 non-null  float64\n",
      "dtypes: float64(86), object(1)\n",
      "memory usage: 10.3 MB\n"
     ]
    }
   ],
   "source": [
    "df_gold_recovery_train.info(memory_usage='deep')"
   ]
  },
  {
   "cell_type": "markdown",
   "metadata": {},
   "source": [
    "В таблице 87 столбцов и 14149 строк, имеются нулевые значения (или пропущенные) в ряде столбцов. Типы данных: 86 столбцов с вещественными значениями типа float64, 1 столбец со строковым типом object. Используемый объем памяти 10.3 MB. "
   ]
  },
  {
   "cell_type": "code",
   "execution_count": 6,
   "metadata": {},
   "outputs": [
    {
     "name": "stdout",
     "output_type": "stream",
     "text": [
      "<class 'pandas.core.frame.DataFrame'>\n",
      "RangeIndex: 5290 entries, 0 to 5289\n",
      "Data columns (total 53 columns):\n",
      " #   Column                                      Non-Null Count  Dtype  \n",
      "---  ------                                      --------------  -----  \n",
      " 0   date                                        5290 non-null   object \n",
      " 1   primary_cleaner.input.sulfate               5286 non-null   float64\n",
      " 2   primary_cleaner.input.depressant            5285 non-null   float64\n",
      " 3   primary_cleaner.input.feed_size             5290 non-null   float64\n",
      " 4   primary_cleaner.input.xanthate              5286 non-null   float64\n",
      " 5   primary_cleaner.state.floatbank8_a_air      5290 non-null   float64\n",
      " 6   primary_cleaner.state.floatbank8_a_level    5290 non-null   float64\n",
      " 7   primary_cleaner.state.floatbank8_b_air      5290 non-null   float64\n",
      " 8   primary_cleaner.state.floatbank8_b_level    5290 non-null   float64\n",
      " 9   primary_cleaner.state.floatbank8_c_air      5290 non-null   float64\n",
      " 10  primary_cleaner.state.floatbank8_c_level    5290 non-null   float64\n",
      " 11  primary_cleaner.state.floatbank8_d_air      5290 non-null   float64\n",
      " 12  primary_cleaner.state.floatbank8_d_level    5290 non-null   float64\n",
      " 13  rougher.input.feed_ag                       5290 non-null   float64\n",
      " 14  rougher.input.feed_pb                       5290 non-null   float64\n",
      " 15  rougher.input.feed_rate                     5287 non-null   float64\n",
      " 16  rougher.input.feed_size                     5289 non-null   float64\n",
      " 17  rougher.input.feed_sol                      5269 non-null   float64\n",
      " 18  rougher.input.feed_au                       5290 non-null   float64\n",
      " 19  rougher.input.floatbank10_sulfate           5285 non-null   float64\n",
      " 20  rougher.input.floatbank10_xanthate          5290 non-null   float64\n",
      " 21  rougher.input.floatbank11_sulfate           5282 non-null   float64\n",
      " 22  rougher.input.floatbank11_xanthate          5265 non-null   float64\n",
      " 23  rougher.state.floatbank10_a_air             5290 non-null   float64\n",
      " 24  rougher.state.floatbank10_a_level           5290 non-null   float64\n",
      " 25  rougher.state.floatbank10_b_air             5290 non-null   float64\n",
      " 26  rougher.state.floatbank10_b_level           5290 non-null   float64\n",
      " 27  rougher.state.floatbank10_c_air             5290 non-null   float64\n",
      " 28  rougher.state.floatbank10_c_level           5290 non-null   float64\n",
      " 29  rougher.state.floatbank10_d_air             5290 non-null   float64\n",
      " 30  rougher.state.floatbank10_d_level           5290 non-null   float64\n",
      " 31  rougher.state.floatbank10_e_air             5290 non-null   float64\n",
      " 32  rougher.state.floatbank10_e_level           5290 non-null   float64\n",
      " 33  rougher.state.floatbank10_f_air             5290 non-null   float64\n",
      " 34  rougher.state.floatbank10_f_level           5290 non-null   float64\n",
      " 35  secondary_cleaner.state.floatbank2_a_air    5287 non-null   float64\n",
      " 36  secondary_cleaner.state.floatbank2_a_level  5290 non-null   float64\n",
      " 37  secondary_cleaner.state.floatbank2_b_air    5288 non-null   float64\n",
      " 38  secondary_cleaner.state.floatbank2_b_level  5290 non-null   float64\n",
      " 39  secondary_cleaner.state.floatbank3_a_air    5281 non-null   float64\n",
      " 40  secondary_cleaner.state.floatbank3_a_level  5290 non-null   float64\n",
      " 41  secondary_cleaner.state.floatbank3_b_air    5290 non-null   float64\n",
      " 42  secondary_cleaner.state.floatbank3_b_level  5290 non-null   float64\n",
      " 43  secondary_cleaner.state.floatbank4_a_air    5290 non-null   float64\n",
      " 44  secondary_cleaner.state.floatbank4_a_level  5290 non-null   float64\n",
      " 45  secondary_cleaner.state.floatbank4_b_air    5290 non-null   float64\n",
      " 46  secondary_cleaner.state.floatbank4_b_level  5290 non-null   float64\n",
      " 47  secondary_cleaner.state.floatbank5_a_air    5290 non-null   float64\n",
      " 48  secondary_cleaner.state.floatbank5_a_level  5290 non-null   float64\n",
      " 49  secondary_cleaner.state.floatbank5_b_air    5290 non-null   float64\n",
      " 50  secondary_cleaner.state.floatbank5_b_level  5290 non-null   float64\n",
      " 51  secondary_cleaner.state.floatbank6_a_air    5290 non-null   float64\n",
      " 52  secondary_cleaner.state.floatbank6_a_level  5290 non-null   float64\n",
      "dtypes: float64(52), object(1)\n",
      "memory usage: 2.5 MB\n"
     ]
    }
   ],
   "source": [
    "df_gold_recovery_test.info(memory_usage='deep')"
   ]
  },
  {
   "cell_type": "markdown",
   "metadata": {},
   "source": [
    "В таблице 53 столбцов и 5290 строк, имеются нулевые значения (или пропущенные) в ряде столбцов. Типы данных: 52 столбцов с вещественными значениями типа float64, 1 столбец со строковым типом object. Используемый объем памяти 2.5 MB. "
   ]
  },
  {
   "cell_type": "code",
   "execution_count": 7,
   "metadata": {},
   "outputs": [
    {
     "name": "stdout",
     "output_type": "stream",
     "text": [
      "<class 'pandas.core.frame.DataFrame'>\n",
      "RangeIndex: 19439 entries, 0 to 19438\n",
      "Data columns (total 87 columns):\n",
      " #   Column                                              Non-Null Count  Dtype  \n",
      "---  ------                                              --------------  -----  \n",
      " 0   date                                                19439 non-null  object \n",
      " 1   final.output.concentrate_ag                         19438 non-null  float64\n",
      " 2   final.output.concentrate_pb                         19438 non-null  float64\n",
      " 3   final.output.concentrate_sol                        19228 non-null  float64\n",
      " 4   final.output.concentrate_au                         19439 non-null  float64\n",
      " 5   final.output.recovery                               19439 non-null  float64\n",
      " 6   final.output.tail_ag                                19438 non-null  float64\n",
      " 7   final.output.tail_pb                                19338 non-null  float64\n",
      " 8   final.output.tail_sol                               19433 non-null  float64\n",
      " 9   final.output.tail_au                                19439 non-null  float64\n",
      " 10  primary_cleaner.input.sulfate                       19415 non-null  float64\n",
      " 11  primary_cleaner.input.depressant                    19402 non-null  float64\n",
      " 12  primary_cleaner.input.feed_size                     19439 non-null  float64\n",
      " 13  primary_cleaner.input.xanthate                      19335 non-null  float64\n",
      " 14  primary_cleaner.output.concentrate_ag               19439 non-null  float64\n",
      " 15  primary_cleaner.output.concentrate_pb               19323 non-null  float64\n",
      " 16  primary_cleaner.output.concentrate_sol              19069 non-null  float64\n",
      " 17  primary_cleaner.output.concentrate_au               19439 non-null  float64\n",
      " 18  primary_cleaner.output.tail_ag                      19435 non-null  float64\n",
      " 19  primary_cleaner.output.tail_pb                      19418 non-null  float64\n",
      " 20  primary_cleaner.output.tail_sol                     19377 non-null  float64\n",
      " 21  primary_cleaner.output.tail_au                      19439 non-null  float64\n",
      " 22  primary_cleaner.state.floatbank8_a_air              19435 non-null  float64\n",
      " 23  primary_cleaner.state.floatbank8_a_level            19438 non-null  float64\n",
      " 24  primary_cleaner.state.floatbank8_b_air              19435 non-null  float64\n",
      " 25  primary_cleaner.state.floatbank8_b_level            19438 non-null  float64\n",
      " 26  primary_cleaner.state.floatbank8_c_air              19437 non-null  float64\n",
      " 27  primary_cleaner.state.floatbank8_c_level            19438 non-null  float64\n",
      " 28  primary_cleaner.state.floatbank8_d_air              19436 non-null  float64\n",
      " 29  primary_cleaner.state.floatbank8_d_level            19438 non-null  float64\n",
      " 30  rougher.calculation.sulfate_to_au_concentrate       19437 non-null  float64\n",
      " 31  rougher.calculation.floatbank10_sulfate_to_au_feed  19437 non-null  float64\n",
      " 32  rougher.calculation.floatbank11_sulfate_to_au_feed  19437 non-null  float64\n",
      " 33  rougher.calculation.au_pb_ratio                     19439 non-null  float64\n",
      " 34  rougher.input.feed_ag                               19439 non-null  float64\n",
      " 35  rougher.input.feed_pb                               19339 non-null  float64\n",
      " 36  rougher.input.feed_rate                             19428 non-null  float64\n",
      " 37  rougher.input.feed_size                             19294 non-null  float64\n",
      " 38  rougher.input.feed_sol                              19340 non-null  float64\n",
      " 39  rougher.input.feed_au                               19439 non-null  float64\n",
      " 40  rougher.input.floatbank10_sulfate                   19405 non-null  float64\n",
      " 41  rougher.input.floatbank10_xanthate                  19431 non-null  float64\n",
      " 42  rougher.input.floatbank11_sulfate                   19395 non-null  float64\n",
      " 43  rougher.input.floatbank11_xanthate                  18986 non-null  float64\n",
      " 44  rougher.output.concentrate_ag                       19439 non-null  float64\n",
      " 45  rougher.output.concentrate_pb                       19439 non-null  float64\n",
      " 46  rougher.output.concentrate_sol                      19416 non-null  float64\n",
      " 47  rougher.output.concentrate_au                       19439 non-null  float64\n",
      " 48  rougher.output.recovery                             19439 non-null  float64\n",
      " 49  rougher.output.tail_ag                              19438 non-null  float64\n",
      " 50  rougher.output.tail_pb                              19439 non-null  float64\n",
      " 51  rougher.output.tail_sol                             19439 non-null  float64\n",
      " 52  rougher.output.tail_au                              19439 non-null  float64\n",
      " 53  rougher.state.floatbank10_a_air                     19438 non-null  float64\n",
      " 54  rougher.state.floatbank10_a_level                   19438 non-null  float64\n",
      " 55  rougher.state.floatbank10_b_air                     19438 non-null  float64\n",
      " 56  rougher.state.floatbank10_b_level                   19438 non-null  float64\n",
      " 57  rougher.state.floatbank10_c_air                     19438 non-null  float64\n",
      " 58  rougher.state.floatbank10_c_level                   19438 non-null  float64\n",
      " 59  rougher.state.floatbank10_d_air                     19439 non-null  float64\n",
      " 60  rougher.state.floatbank10_d_level                   19439 non-null  float64\n",
      " 61  rougher.state.floatbank10_e_air                     19003 non-null  float64\n",
      " 62  rougher.state.floatbank10_e_level                   19439 non-null  float64\n",
      " 63  rougher.state.floatbank10_f_air                     19439 non-null  float64\n",
      " 64  rougher.state.floatbank10_f_level                   19439 non-null  float64\n",
      " 65  secondary_cleaner.output.tail_ag                    19437 non-null  float64\n",
      " 66  secondary_cleaner.output.tail_pb                    19427 non-null  float64\n",
      " 67  secondary_cleaner.output.tail_sol                   17691 non-null  float64\n",
      " 68  secondary_cleaner.output.tail_au                    19439 non-null  float64\n",
      " 69  secondary_cleaner.state.floatbank2_a_air            19219 non-null  float64\n",
      " 70  secondary_cleaner.state.floatbank2_a_level          19438 non-null  float64\n",
      " 71  secondary_cleaner.state.floatbank2_b_air            19416 non-null  float64\n",
      " 72  secondary_cleaner.state.floatbank2_b_level          19438 non-null  float64\n",
      " 73  secondary_cleaner.state.floatbank3_a_air            19426 non-null  float64\n",
      " 74  secondary_cleaner.state.floatbank3_a_level          19438 non-null  float64\n",
      " 75  secondary_cleaner.state.floatbank3_b_air            19438 non-null  float64\n",
      " 76  secondary_cleaner.state.floatbank3_b_level          19438 non-null  float64\n",
      " 77  secondary_cleaner.state.floatbank4_a_air            19433 non-null  float64\n",
      " 78  secondary_cleaner.state.floatbank4_a_level          19438 non-null  float64\n",
      " 79  secondary_cleaner.state.floatbank4_b_air            19438 non-null  float64\n",
      " 80  secondary_cleaner.state.floatbank4_b_level          19438 non-null  float64\n",
      " 81  secondary_cleaner.state.floatbank5_a_air            19438 non-null  float64\n",
      " 82  secondary_cleaner.state.floatbank5_a_level          19438 non-null  float64\n",
      " 83  secondary_cleaner.state.floatbank5_b_air            19438 non-null  float64\n",
      " 84  secondary_cleaner.state.floatbank5_b_level          19438 non-null  float64\n",
      " 85  secondary_cleaner.state.floatbank6_a_air            19437 non-null  float64\n",
      " 86  secondary_cleaner.state.floatbank6_a_level          19438 non-null  float64\n",
      "dtypes: float64(86), object(1)\n",
      "memory usage: 14.2 MB\n"
     ]
    }
   ],
   "source": [
    "df_gold_recovery_full.info(memory_usage='deep')"
   ]
  },
  {
   "cell_type": "markdown",
   "metadata": {},
   "source": [
    "В таблице 87 столбцов и 19439 строк, имеются нулевые значения (или пропущенные) в ряде столбцов. Типы данных: 86 столбцов с вещественными значениями типа float64, 1 столбец со строковым типом object. Используемый объем памяти 14.2 MB. "
   ]
  },
  {
   "cell_type": "code",
   "execution_count": 8,
   "metadata": {
    "scrolled": false
   },
   "outputs": [
    {
     "data": {
      "text/html": [
       "<div>\n",
       "<style scoped>\n",
       "    .dataframe tbody tr th:only-of-type {\n",
       "        vertical-align: middle;\n",
       "    }\n",
       "\n",
       "    .dataframe tbody tr th {\n",
       "        vertical-align: top;\n",
       "    }\n",
       "\n",
       "    .dataframe thead th {\n",
       "        text-align: right;\n",
       "    }\n",
       "</style>\n",
       "<table border=\"1\" class=\"dataframe\">\n",
       "  <thead>\n",
       "    <tr style=\"text-align: right;\">\n",
       "      <th></th>\n",
       "      <th>date</th>\n",
       "      <th>final.output.concentrate_ag</th>\n",
       "      <th>final.output.concentrate_pb</th>\n",
       "      <th>final.output.concentrate_sol</th>\n",
       "      <th>final.output.concentrate_au</th>\n",
       "      <th>final.output.recovery</th>\n",
       "      <th>final.output.tail_ag</th>\n",
       "      <th>final.output.tail_pb</th>\n",
       "      <th>final.output.tail_sol</th>\n",
       "      <th>final.output.tail_au</th>\n",
       "      <th>...</th>\n",
       "      <th>secondary_cleaner.state.floatbank4_a_air</th>\n",
       "      <th>secondary_cleaner.state.floatbank4_a_level</th>\n",
       "      <th>secondary_cleaner.state.floatbank4_b_air</th>\n",
       "      <th>secondary_cleaner.state.floatbank4_b_level</th>\n",
       "      <th>secondary_cleaner.state.floatbank5_a_air</th>\n",
       "      <th>secondary_cleaner.state.floatbank5_a_level</th>\n",
       "      <th>secondary_cleaner.state.floatbank5_b_air</th>\n",
       "      <th>secondary_cleaner.state.floatbank5_b_level</th>\n",
       "      <th>secondary_cleaner.state.floatbank6_a_air</th>\n",
       "      <th>secondary_cleaner.state.floatbank6_a_level</th>\n",
       "    </tr>\n",
       "  </thead>\n",
       "  <tbody>\n",
       "    <tr>\n",
       "      <th>1279</th>\n",
       "      <td>2016-03-15 00:00:00</td>\n",
       "      <td>3.252676</td>\n",
       "      <td>8.510433</td>\n",
       "      <td>6.465512</td>\n",
       "      <td>50.256024</td>\n",
       "      <td>63.569376</td>\n",
       "      <td>10.539983</td>\n",
       "      <td>1.501644</td>\n",
       "      <td>16.557457</td>\n",
       "      <td>2.993073</td>\n",
       "      <td>...</td>\n",
       "      <td>11.983650</td>\n",
       "      <td>-500.113407</td>\n",
       "      <td>11.916660</td>\n",
       "      <td>-499.869202</td>\n",
       "      <td>12.017091</td>\n",
       "      <td>-500.096001</td>\n",
       "      <td>10.045787</td>\n",
       "      <td>-499.866773</td>\n",
       "      <td>19.977368</td>\n",
       "      <td>-498.919943</td>\n",
       "    </tr>\n",
       "    <tr>\n",
       "      <th>8441</th>\n",
       "      <td>2017-07-04 09:59:59</td>\n",
       "      <td>4.159550</td>\n",
       "      <td>9.274852</td>\n",
       "      <td>8.455313</td>\n",
       "      <td>47.560917</td>\n",
       "      <td>53.332805</td>\n",
       "      <td>6.980069</td>\n",
       "      <td>2.411338</td>\n",
       "      <td>10.432519</td>\n",
       "      <td>2.695723</td>\n",
       "      <td>...</td>\n",
       "      <td>22.003392</td>\n",
       "      <td>-498.966317</td>\n",
       "      <td>15.113541</td>\n",
       "      <td>-378.897420</td>\n",
       "      <td>17.985623</td>\n",
       "      <td>-499.556697</td>\n",
       "      <td>13.018669</td>\n",
       "      <td>-500.107951</td>\n",
       "      <td>14.986287</td>\n",
       "      <td>-498.565282</td>\n",
       "    </tr>\n",
       "    <tr>\n",
       "      <th>11804</th>\n",
       "      <td>2018-04-24 13:59:59</td>\n",
       "      <td>6.243062</td>\n",
       "      <td>10.433451</td>\n",
       "      <td>10.120285</td>\n",
       "      <td>43.323904</td>\n",
       "      <td>75.553140</td>\n",
       "      <td>13.220890</td>\n",
       "      <td>2.245556</td>\n",
       "      <td>9.170673</td>\n",
       "      <td>2.560183</td>\n",
       "      <td>...</td>\n",
       "      <td>27.003779</td>\n",
       "      <td>-497.762251</td>\n",
       "      <td>19.996568</td>\n",
       "      <td>-499.000642</td>\n",
       "      <td>19.974292</td>\n",
       "      <td>-501.409662</td>\n",
       "      <td>14.997070</td>\n",
       "      <td>-499.648799</td>\n",
       "      <td>17.995196</td>\n",
       "      <td>-499.164998</td>\n",
       "    </tr>\n",
       "    <tr>\n",
       "      <th>2233</th>\n",
       "      <td>2016-05-10 21:59:59</td>\n",
       "      <td>4.619858</td>\n",
       "      <td>8.676903</td>\n",
       "      <td>8.039360</td>\n",
       "      <td>41.508499</td>\n",
       "      <td>63.541877</td>\n",
       "      <td>7.092973</td>\n",
       "      <td>1.807676</td>\n",
       "      <td>12.432769</td>\n",
       "      <td>2.496201</td>\n",
       "      <td>...</td>\n",
       "      <td>14.001545</td>\n",
       "      <td>-499.839196</td>\n",
       "      <td>11.911242</td>\n",
       "      <td>-499.871395</td>\n",
       "      <td>11.057948</td>\n",
       "      <td>-499.292751</td>\n",
       "      <td>5.921242</td>\n",
       "      <td>-500.440978</td>\n",
       "      <td>20.007057</td>\n",
       "      <td>-497.857448</td>\n",
       "    </tr>\n",
       "    <tr>\n",
       "      <th>4965</th>\n",
       "      <td>2017-01-18 13:59:59</td>\n",
       "      <td>0.000000</td>\n",
       "      <td>0.000000</td>\n",
       "      <td>0.000000</td>\n",
       "      <td>0.000000</td>\n",
       "      <td>0.000000</td>\n",
       "      <td>0.135709</td>\n",
       "      <td>0.248237</td>\n",
       "      <td>10.817715</td>\n",
       "      <td>0.541934</td>\n",
       "      <td>...</td>\n",
       "      <td>14.015494</td>\n",
       "      <td>-496.764289</td>\n",
       "      <td>13.981879</td>\n",
       "      <td>-499.244981</td>\n",
       "      <td>-0.176485</td>\n",
       "      <td>-500.816086</td>\n",
       "      <td>8.093619</td>\n",
       "      <td>-500.197658</td>\n",
       "      <td>19.986522</td>\n",
       "      <td>-602.355855</td>\n",
       "    </tr>\n",
       "  </tbody>\n",
       "</table>\n",
       "<p>5 rows × 87 columns</p>\n",
       "</div>"
      ],
      "text/plain": [
       "                      date  final.output.concentrate_ag  \\\n",
       "1279   2016-03-15 00:00:00                     3.252676   \n",
       "8441   2017-07-04 09:59:59                     4.159550   \n",
       "11804  2018-04-24 13:59:59                     6.243062   \n",
       "2233   2016-05-10 21:59:59                     4.619858   \n",
       "4965   2017-01-18 13:59:59                     0.000000   \n",
       "\n",
       "       final.output.concentrate_pb  final.output.concentrate_sol  \\\n",
       "1279                      8.510433                      6.465512   \n",
       "8441                      9.274852                      8.455313   \n",
       "11804                    10.433451                     10.120285   \n",
       "2233                      8.676903                      8.039360   \n",
       "4965                      0.000000                      0.000000   \n",
       "\n",
       "       final.output.concentrate_au  final.output.recovery  \\\n",
       "1279                     50.256024              63.569376   \n",
       "8441                     47.560917              53.332805   \n",
       "11804                    43.323904              75.553140   \n",
       "2233                     41.508499              63.541877   \n",
       "4965                      0.000000               0.000000   \n",
       "\n",
       "       final.output.tail_ag  final.output.tail_pb  final.output.tail_sol  \\\n",
       "1279              10.539983              1.501644              16.557457   \n",
       "8441               6.980069              2.411338              10.432519   \n",
       "11804             13.220890              2.245556               9.170673   \n",
       "2233               7.092973              1.807676              12.432769   \n",
       "4965               0.135709              0.248237              10.817715   \n",
       "\n",
       "       final.output.tail_au  ...  secondary_cleaner.state.floatbank4_a_air  \\\n",
       "1279               2.993073  ...                                 11.983650   \n",
       "8441               2.695723  ...                                 22.003392   \n",
       "11804              2.560183  ...                                 27.003779   \n",
       "2233               2.496201  ...                                 14.001545   \n",
       "4965               0.541934  ...                                 14.015494   \n",
       "\n",
       "       secondary_cleaner.state.floatbank4_a_level  \\\n",
       "1279                                  -500.113407   \n",
       "8441                                  -498.966317   \n",
       "11804                                 -497.762251   \n",
       "2233                                  -499.839196   \n",
       "4965                                  -496.764289   \n",
       "\n",
       "       secondary_cleaner.state.floatbank4_b_air  \\\n",
       "1279                                  11.916660   \n",
       "8441                                  15.113541   \n",
       "11804                                 19.996568   \n",
       "2233                                  11.911242   \n",
       "4965                                  13.981879   \n",
       "\n",
       "       secondary_cleaner.state.floatbank4_b_level  \\\n",
       "1279                                  -499.869202   \n",
       "8441                                  -378.897420   \n",
       "11804                                 -499.000642   \n",
       "2233                                  -499.871395   \n",
       "4965                                  -499.244981   \n",
       "\n",
       "       secondary_cleaner.state.floatbank5_a_air  \\\n",
       "1279                                  12.017091   \n",
       "8441                                  17.985623   \n",
       "11804                                 19.974292   \n",
       "2233                                  11.057948   \n",
       "4965                                  -0.176485   \n",
       "\n",
       "       secondary_cleaner.state.floatbank5_a_level  \\\n",
       "1279                                  -500.096001   \n",
       "8441                                  -499.556697   \n",
       "11804                                 -501.409662   \n",
       "2233                                  -499.292751   \n",
       "4965                                  -500.816086   \n",
       "\n",
       "       secondary_cleaner.state.floatbank5_b_air  \\\n",
       "1279                                  10.045787   \n",
       "8441                                  13.018669   \n",
       "11804                                 14.997070   \n",
       "2233                                   5.921242   \n",
       "4965                                   8.093619   \n",
       "\n",
       "       secondary_cleaner.state.floatbank5_b_level  \\\n",
       "1279                                  -499.866773   \n",
       "8441                                  -500.107951   \n",
       "11804                                 -499.648799   \n",
       "2233                                  -500.440978   \n",
       "4965                                  -500.197658   \n",
       "\n",
       "       secondary_cleaner.state.floatbank6_a_air  \\\n",
       "1279                                  19.977368   \n",
       "8441                                  14.986287   \n",
       "11804                                 17.995196   \n",
       "2233                                  20.007057   \n",
       "4965                                  19.986522   \n",
       "\n",
       "       secondary_cleaner.state.floatbank6_a_level  \n",
       "1279                                  -498.919943  \n",
       "8441                                  -498.565282  \n",
       "11804                                 -499.164998  \n",
       "2233                                  -497.857448  \n",
       "4965                                  -602.355855  \n",
       "\n",
       "[5 rows x 87 columns]"
      ]
     },
     "execution_count": 8,
     "metadata": {},
     "output_type": "execute_result"
    }
   ],
   "source": [
    "df_gold_recovery_train.sample(5)"
   ]
  },
  {
   "cell_type": "markdown",
   "metadata": {},
   "source": [
    "Проверим правильность расчета эффективности обогащения `rougher.output.recovery`  на обучающей выборке:"
   ]
  },
  {
   "cell_type": "code",
   "execution_count": 9,
   "metadata": {},
   "outputs": [
    {
     "name": "stdout",
     "output_type": "stream",
     "text": [
      "9.73512347450521e-15\n"
     ]
    }
   ],
   "source": [
    "rougher_output_recovery_estim = df_gold_recovery_train['rougher.output.recovery'] # имеющееся значение признака\n",
    "\n",
    "\n",
    "c_check = df_gold_recovery_train['rougher.output.concentrate_au'] # доля золота в концентрате после флотации\n",
    "f_check = df_gold_recovery_train['rougher.input.feed_au'] # доля золота в сырье до флотации\n",
    "t_check = df_gold_recovery_train['rougher.output.tail_au'] # доля золота в отвальных хвостах после флотации\n",
    "\n",
    "# расчетная величина коэффициента обогащения\n",
    "rougher_output_recovery_check = ((c_check * (f_check - t_check)) / (f_check * (c_check - t_check))) * 100\n",
    "\n",
    "#расчет MAE\n",
    "mae_rougher = mean_absolute_error(rougher_output_recovery_estim, rougher_output_recovery_check)\n",
    "print(mae_rougher)"
   ]
  },
  {
   "cell_type": "markdown",
   "metadata": {},
   "source": [
    "Значение MAE очень маленькое, преположим что расчет выполняется верно."
   ]
  },
  {
   "cell_type": "markdown",
   "metadata": {},
   "source": [
    "Пранализируем различие признаков между тестовой и обчающей выборками, а именно найдем отсуствующие в тестовой выборке признаки:"
   ]
  },
  {
   "cell_type": "code",
   "execution_count": 10,
   "metadata": {},
   "outputs": [
    {
     "name": "stdout",
     "output_type": "stream",
     "text": [
      "['final.output.concentrate_ag', 'final.output.concentrate_pb', 'final.output.concentrate_sol', 'final.output.concentrate_au', 'final.output.recovery', 'final.output.tail_ag', 'final.output.tail_pb', 'final.output.tail_sol', 'final.output.tail_au', 'primary_cleaner.output.concentrate_ag', 'primary_cleaner.output.concentrate_pb', 'primary_cleaner.output.concentrate_sol', 'primary_cleaner.output.concentrate_au', 'primary_cleaner.output.tail_ag', 'primary_cleaner.output.tail_pb', 'primary_cleaner.output.tail_sol', 'primary_cleaner.output.tail_au', 'rougher.calculation.sulfate_to_au_concentrate', 'rougher.calculation.floatbank10_sulfate_to_au_feed', 'rougher.calculation.floatbank11_sulfate_to_au_feed', 'rougher.calculation.au_pb_ratio', 'rougher.output.concentrate_ag', 'rougher.output.concentrate_pb', 'rougher.output.concentrate_sol', 'rougher.output.concentrate_au', 'rougher.output.recovery', 'rougher.output.tail_ag', 'rougher.output.tail_pb', 'rougher.output.tail_sol', 'rougher.output.tail_au', 'secondary_cleaner.output.tail_ag', 'secondary_cleaner.output.tail_pb', 'secondary_cleaner.output.tail_sol', 'secondary_cleaner.output.tail_au']\n",
      "\n",
      "Число недоступных признаков в тестовой выборке: 34\n"
     ]
    }
   ],
   "source": [
    "column_name_train = df_gold_recovery_train.columns # список названий столбцов обучающей выборки\n",
    "column_name_test = df_gold_recovery_test.columns # список названий столбцов тестовой выборки\n",
    "\n",
    "missed_names = [] # список пропущенных признаков\n",
    "\n",
    "for i in column_name_train:\n",
    "    if i not in column_name_test:\n",
    "        missed_names.append(i)\n",
    "\n",
    "print(missed_names)\n",
    "print()\n",
    "print('Число недоступных признаков в тестовой выборке:',len(missed_names))"
   ]
  },
  {
   "cell_type": "markdown",
   "metadata": {},
   "source": [
    "По полученным результатам видно, что тестовая выборка не содержит 34 признака из обучающей выборки. При анализе \"выбывших\" признаков можно отметить, что это признаки выходных параметров (тип `outputs`) каждого этапа технологического процесса, а именно доли металлов в концентрате и хвостах после флотации, первичной отчиски и вторичной отчиски. Также в список выбывших признаков попали расчетные значения (тип `calculation`) для этапа флотации. Также отметим, что в списке выбывших имеется эффективность обогащения финального и чернового концентрата `final.output.recovery` и `rougher.output.recovery` соотвестенно.\n",
    "\n",
    "Важно обозначить, что доля металлов (в частности золота) в концентрате и хвостах является целевым параметром, на оcновании которых раситывается эффективность обогащения. Отсуствие этих параметров в тестовой выборке не позволит в дальнейшем оценить качество модели. Далее учтем это в рамках предобработки данных."
   ]
  },
  {
   "cell_type": "markdown",
   "metadata": {},
   "source": [
    "### 1.2 Подготовка данных"
   ]
  },
  {
   "cell_type": "markdown",
   "metadata": {},
   "source": [
    "Подготовим обучающую и тестовые выборки. "
   ]
  },
  {
   "cell_type": "markdown",
   "metadata": {},
   "source": [
    "Поменяем тип данных в столбце `date`, данные в котором буду является уникальным идентификатором для связи между полной, обучающей и тестовой выборками:"
   ]
  },
  {
   "cell_type": "code",
   "execution_count": 11,
   "metadata": {},
   "outputs": [],
   "source": [
    "df_gold_recovery_train['date'] = pd.to_datetime(df_gold_recovery_train['date'], format='%Y-%m-%d %H:%M:%S')\n",
    "df_gold_recovery_test['date'] = pd.to_datetime(df_gold_recovery_test['date'], format='%Y-%m-%d %H:%M:%S')\n",
    "df_gold_recovery_full['date'] = pd.to_datetime(df_gold_recovery_full['date'], format='%Y-%m-%d %H:%M:%S')"
   ]
  },
  {
   "cell_type": "code",
   "execution_count": 12,
   "metadata": {},
   "outputs": [
    {
     "data": {
      "text/html": [
       "<div>\n",
       "<style scoped>\n",
       "    .dataframe tbody tr th:only-of-type {\n",
       "        vertical-align: middle;\n",
       "    }\n",
       "\n",
       "    .dataframe tbody tr th {\n",
       "        vertical-align: top;\n",
       "    }\n",
       "\n",
       "    .dataframe thead th {\n",
       "        text-align: right;\n",
       "    }\n",
       "</style>\n",
       "<table border=\"1\" class=\"dataframe\">\n",
       "  <thead>\n",
       "    <tr style=\"text-align: right;\">\n",
       "      <th></th>\n",
       "      <th>final.output.concentrate_ag</th>\n",
       "      <th>final.output.concentrate_pb</th>\n",
       "      <th>final.output.concentrate_sol</th>\n",
       "      <th>final.output.concentrate_au</th>\n",
       "      <th>final.output.recovery</th>\n",
       "      <th>final.output.tail_ag</th>\n",
       "      <th>final.output.tail_pb</th>\n",
       "      <th>final.output.tail_sol</th>\n",
       "      <th>final.output.tail_au</th>\n",
       "      <th>primary_cleaner.input.sulfate</th>\n",
       "      <th>...</th>\n",
       "      <th>secondary_cleaner.state.floatbank4_a_air</th>\n",
       "      <th>secondary_cleaner.state.floatbank4_a_level</th>\n",
       "      <th>secondary_cleaner.state.floatbank4_b_air</th>\n",
       "      <th>secondary_cleaner.state.floatbank4_b_level</th>\n",
       "      <th>secondary_cleaner.state.floatbank5_a_air</th>\n",
       "      <th>secondary_cleaner.state.floatbank5_a_level</th>\n",
       "      <th>secondary_cleaner.state.floatbank5_b_air</th>\n",
       "      <th>secondary_cleaner.state.floatbank5_b_level</th>\n",
       "      <th>secondary_cleaner.state.floatbank6_a_air</th>\n",
       "      <th>secondary_cleaner.state.floatbank6_a_level</th>\n",
       "    </tr>\n",
       "    <tr>\n",
       "      <th>date</th>\n",
       "      <th></th>\n",
       "      <th></th>\n",
       "      <th></th>\n",
       "      <th></th>\n",
       "      <th></th>\n",
       "      <th></th>\n",
       "      <th></th>\n",
       "      <th></th>\n",
       "      <th></th>\n",
       "      <th></th>\n",
       "      <th></th>\n",
       "      <th></th>\n",
       "      <th></th>\n",
       "      <th></th>\n",
       "      <th></th>\n",
       "      <th></th>\n",
       "      <th></th>\n",
       "      <th></th>\n",
       "      <th></th>\n",
       "      <th></th>\n",
       "      <th></th>\n",
       "    </tr>\n",
       "  </thead>\n",
       "  <tbody>\n",
       "    <tr>\n",
       "      <th>2016-01-15 00:00:00</th>\n",
       "      <td>6.055403</td>\n",
       "      <td>9.889648</td>\n",
       "      <td>5.507324</td>\n",
       "      <td>42.192020</td>\n",
       "      <td>70.541216</td>\n",
       "      <td>10.411962</td>\n",
       "      <td>0.895447</td>\n",
       "      <td>16.904297</td>\n",
       "      <td>2.143149</td>\n",
       "      <td>127.092003</td>\n",
       "      <td>...</td>\n",
       "      <td>14.016835</td>\n",
       "      <td>-502.488007</td>\n",
       "      <td>12.099931</td>\n",
       "      <td>-504.715942</td>\n",
       "      <td>9.925633</td>\n",
       "      <td>-498.310211</td>\n",
       "      <td>8.079666</td>\n",
       "      <td>-500.470978</td>\n",
       "      <td>14.151341</td>\n",
       "      <td>-605.841980</td>\n",
       "    </tr>\n",
       "    <tr>\n",
       "      <th>2016-01-15 01:00:00</th>\n",
       "      <td>6.029369</td>\n",
       "      <td>9.968944</td>\n",
       "      <td>5.257781</td>\n",
       "      <td>42.701629</td>\n",
       "      <td>69.266198</td>\n",
       "      <td>10.462676</td>\n",
       "      <td>0.927452</td>\n",
       "      <td>16.634514</td>\n",
       "      <td>2.224930</td>\n",
       "      <td>125.629232</td>\n",
       "      <td>...</td>\n",
       "      <td>13.992281</td>\n",
       "      <td>-505.503262</td>\n",
       "      <td>11.950531</td>\n",
       "      <td>-501.331529</td>\n",
       "      <td>10.039245</td>\n",
       "      <td>-500.169983</td>\n",
       "      <td>7.984757</td>\n",
       "      <td>-500.582168</td>\n",
       "      <td>13.998353</td>\n",
       "      <td>-599.787184</td>\n",
       "    </tr>\n",
       "    <tr>\n",
       "      <th>2016-01-15 02:00:00</th>\n",
       "      <td>6.055926</td>\n",
       "      <td>10.213995</td>\n",
       "      <td>5.383759</td>\n",
       "      <td>42.657501</td>\n",
       "      <td>68.116445</td>\n",
       "      <td>10.507046</td>\n",
       "      <td>0.953716</td>\n",
       "      <td>16.208849</td>\n",
       "      <td>2.257889</td>\n",
       "      <td>123.819808</td>\n",
       "      <td>...</td>\n",
       "      <td>14.015015</td>\n",
       "      <td>-502.520901</td>\n",
       "      <td>11.912783</td>\n",
       "      <td>-501.133383</td>\n",
       "      <td>10.070913</td>\n",
       "      <td>-500.129135</td>\n",
       "      <td>8.013877</td>\n",
       "      <td>-500.517572</td>\n",
       "      <td>14.028663</td>\n",
       "      <td>-601.427363</td>\n",
       "    </tr>\n",
       "    <tr>\n",
       "      <th>2016-01-15 03:00:00</th>\n",
       "      <td>6.047977</td>\n",
       "      <td>9.977019</td>\n",
       "      <td>4.858634</td>\n",
       "      <td>42.689819</td>\n",
       "      <td>68.347543</td>\n",
       "      <td>10.422762</td>\n",
       "      <td>0.883763</td>\n",
       "      <td>16.532835</td>\n",
       "      <td>2.146849</td>\n",
       "      <td>122.270188</td>\n",
       "      <td>...</td>\n",
       "      <td>14.036510</td>\n",
       "      <td>-500.857308</td>\n",
       "      <td>11.999550</td>\n",
       "      <td>-501.193686</td>\n",
       "      <td>9.970366</td>\n",
       "      <td>-499.201640</td>\n",
       "      <td>7.977324</td>\n",
       "      <td>-500.255908</td>\n",
       "      <td>14.005551</td>\n",
       "      <td>-599.996129</td>\n",
       "    </tr>\n",
       "    <tr>\n",
       "      <th>2016-01-15 04:00:00</th>\n",
       "      <td>6.148599</td>\n",
       "      <td>10.142511</td>\n",
       "      <td>4.939416</td>\n",
       "      <td>42.774141</td>\n",
       "      <td>66.927016</td>\n",
       "      <td>10.360302</td>\n",
       "      <td>0.792826</td>\n",
       "      <td>16.525686</td>\n",
       "      <td>2.055292</td>\n",
       "      <td>117.988169</td>\n",
       "      <td>...</td>\n",
       "      <td>14.027298</td>\n",
       "      <td>-499.838632</td>\n",
       "      <td>11.953070</td>\n",
       "      <td>-501.053894</td>\n",
       "      <td>9.925709</td>\n",
       "      <td>-501.686727</td>\n",
       "      <td>7.894242</td>\n",
       "      <td>-500.356035</td>\n",
       "      <td>13.996647</td>\n",
       "      <td>-601.496691</td>\n",
       "    </tr>\n",
       "    <tr>\n",
       "      <th>...</th>\n",
       "      <td>...</td>\n",
       "      <td>...</td>\n",
       "      <td>...</td>\n",
       "      <td>...</td>\n",
       "      <td>...</td>\n",
       "      <td>...</td>\n",
       "      <td>...</td>\n",
       "      <td>...</td>\n",
       "      <td>...</td>\n",
       "      <td>...</td>\n",
       "      <td>...</td>\n",
       "      <td>...</td>\n",
       "      <td>...</td>\n",
       "      <td>...</td>\n",
       "      <td>...</td>\n",
       "      <td>...</td>\n",
       "      <td>...</td>\n",
       "      <td>...</td>\n",
       "      <td>...</td>\n",
       "      <td>...</td>\n",
       "      <td>...</td>\n",
       "    </tr>\n",
       "    <tr>\n",
       "      <th>2018-08-18 06:59:59</th>\n",
       "      <td>3.224920</td>\n",
       "      <td>11.356233</td>\n",
       "      <td>6.803482</td>\n",
       "      <td>46.713954</td>\n",
       "      <td>73.755150</td>\n",
       "      <td>8.769645</td>\n",
       "      <td>3.141541</td>\n",
       "      <td>10.403181</td>\n",
       "      <td>1.529220</td>\n",
       "      <td>123.381787</td>\n",
       "      <td>...</td>\n",
       "      <td>23.031497</td>\n",
       "      <td>-501.167942</td>\n",
       "      <td>20.007571</td>\n",
       "      <td>-499.740028</td>\n",
       "      <td>18.006038</td>\n",
       "      <td>-499.834374</td>\n",
       "      <td>13.001114</td>\n",
       "      <td>-500.155694</td>\n",
       "      <td>20.007840</td>\n",
       "      <td>-501.296428</td>\n",
       "    </tr>\n",
       "    <tr>\n",
       "      <th>2018-08-18 07:59:59</th>\n",
       "      <td>3.195978</td>\n",
       "      <td>11.349355</td>\n",
       "      <td>6.862249</td>\n",
       "      <td>46.866780</td>\n",
       "      <td>69.049291</td>\n",
       "      <td>8.897321</td>\n",
       "      <td>3.130493</td>\n",
       "      <td>10.549470</td>\n",
       "      <td>1.612542</td>\n",
       "      <td>120.878188</td>\n",
       "      <td>...</td>\n",
       "      <td>22.960095</td>\n",
       "      <td>-501.612783</td>\n",
       "      <td>20.035660</td>\n",
       "      <td>-500.251357</td>\n",
       "      <td>17.998535</td>\n",
       "      <td>-500.395178</td>\n",
       "      <td>12.954048</td>\n",
       "      <td>-499.895163</td>\n",
       "      <td>19.968498</td>\n",
       "      <td>-501.041608</td>\n",
       "    </tr>\n",
       "    <tr>\n",
       "      <th>2018-08-18 08:59:59</th>\n",
       "      <td>3.109998</td>\n",
       "      <td>11.434366</td>\n",
       "      <td>6.886013</td>\n",
       "      <td>46.795691</td>\n",
       "      <td>67.002189</td>\n",
       "      <td>8.529606</td>\n",
       "      <td>2.911418</td>\n",
       "      <td>11.115147</td>\n",
       "      <td>1.596616</td>\n",
       "      <td>105.666118</td>\n",
       "      <td>...</td>\n",
       "      <td>23.015718</td>\n",
       "      <td>-501.711599</td>\n",
       "      <td>19.951231</td>\n",
       "      <td>-499.857027</td>\n",
       "      <td>18.019543</td>\n",
       "      <td>-500.451156</td>\n",
       "      <td>13.023431</td>\n",
       "      <td>-499.914391</td>\n",
       "      <td>19.990885</td>\n",
       "      <td>-501.518452</td>\n",
       "    </tr>\n",
       "    <tr>\n",
       "      <th>2018-08-18 09:59:59</th>\n",
       "      <td>3.367241</td>\n",
       "      <td>11.625587</td>\n",
       "      <td>6.799433</td>\n",
       "      <td>46.408188</td>\n",
       "      <td>65.523246</td>\n",
       "      <td>8.777171</td>\n",
       "      <td>2.819214</td>\n",
       "      <td>10.463847</td>\n",
       "      <td>1.602879</td>\n",
       "      <td>98.880538</td>\n",
       "      <td>...</td>\n",
       "      <td>23.024963</td>\n",
       "      <td>-501.153409</td>\n",
       "      <td>20.054122</td>\n",
       "      <td>-500.314711</td>\n",
       "      <td>17.979515</td>\n",
       "      <td>-499.272871</td>\n",
       "      <td>12.992404</td>\n",
       "      <td>-499.976268</td>\n",
       "      <td>20.013986</td>\n",
       "      <td>-500.625471</td>\n",
       "    </tr>\n",
       "    <tr>\n",
       "      <th>2018-08-18 10:59:59</th>\n",
       "      <td>3.598375</td>\n",
       "      <td>11.737832</td>\n",
       "      <td>6.717509</td>\n",
       "      <td>46.299438</td>\n",
       "      <td>70.281454</td>\n",
       "      <td>8.406690</td>\n",
       "      <td>2.517518</td>\n",
       "      <td>10.652193</td>\n",
       "      <td>1.389434</td>\n",
       "      <td>95.248427</td>\n",
       "      <td>...</td>\n",
       "      <td>23.018622</td>\n",
       "      <td>-500.492702</td>\n",
       "      <td>20.020205</td>\n",
       "      <td>-500.220296</td>\n",
       "      <td>17.963512</td>\n",
       "      <td>-499.939490</td>\n",
       "      <td>12.990306</td>\n",
       "      <td>-500.080993</td>\n",
       "      <td>19.990336</td>\n",
       "      <td>-499.191575</td>\n",
       "    </tr>\n",
       "  </tbody>\n",
       "</table>\n",
       "<p>19439 rows × 86 columns</p>\n",
       "</div>"
      ],
      "text/plain": [
       "                     final.output.concentrate_ag  final.output.concentrate_pb  \\\n",
       "date                                                                            \n",
       "2016-01-15 00:00:00                     6.055403                     9.889648   \n",
       "2016-01-15 01:00:00                     6.029369                     9.968944   \n",
       "2016-01-15 02:00:00                     6.055926                    10.213995   \n",
       "2016-01-15 03:00:00                     6.047977                     9.977019   \n",
       "2016-01-15 04:00:00                     6.148599                    10.142511   \n",
       "...                                          ...                          ...   \n",
       "2018-08-18 06:59:59                     3.224920                    11.356233   \n",
       "2018-08-18 07:59:59                     3.195978                    11.349355   \n",
       "2018-08-18 08:59:59                     3.109998                    11.434366   \n",
       "2018-08-18 09:59:59                     3.367241                    11.625587   \n",
       "2018-08-18 10:59:59                     3.598375                    11.737832   \n",
       "\n",
       "                     final.output.concentrate_sol  \\\n",
       "date                                                \n",
       "2016-01-15 00:00:00                      5.507324   \n",
       "2016-01-15 01:00:00                      5.257781   \n",
       "2016-01-15 02:00:00                      5.383759   \n",
       "2016-01-15 03:00:00                      4.858634   \n",
       "2016-01-15 04:00:00                      4.939416   \n",
       "...                                           ...   \n",
       "2018-08-18 06:59:59                      6.803482   \n",
       "2018-08-18 07:59:59                      6.862249   \n",
       "2018-08-18 08:59:59                      6.886013   \n",
       "2018-08-18 09:59:59                      6.799433   \n",
       "2018-08-18 10:59:59                      6.717509   \n",
       "\n",
       "                     final.output.concentrate_au  final.output.recovery  \\\n",
       "date                                                                      \n",
       "2016-01-15 00:00:00                    42.192020              70.541216   \n",
       "2016-01-15 01:00:00                    42.701629              69.266198   \n",
       "2016-01-15 02:00:00                    42.657501              68.116445   \n",
       "2016-01-15 03:00:00                    42.689819              68.347543   \n",
       "2016-01-15 04:00:00                    42.774141              66.927016   \n",
       "...                                          ...                    ...   \n",
       "2018-08-18 06:59:59                    46.713954              73.755150   \n",
       "2018-08-18 07:59:59                    46.866780              69.049291   \n",
       "2018-08-18 08:59:59                    46.795691              67.002189   \n",
       "2018-08-18 09:59:59                    46.408188              65.523246   \n",
       "2018-08-18 10:59:59                    46.299438              70.281454   \n",
       "\n",
       "                     final.output.tail_ag  final.output.tail_pb  \\\n",
       "date                                                              \n",
       "2016-01-15 00:00:00             10.411962              0.895447   \n",
       "2016-01-15 01:00:00             10.462676              0.927452   \n",
       "2016-01-15 02:00:00             10.507046              0.953716   \n",
       "2016-01-15 03:00:00             10.422762              0.883763   \n",
       "2016-01-15 04:00:00             10.360302              0.792826   \n",
       "...                                   ...                   ...   \n",
       "2018-08-18 06:59:59              8.769645              3.141541   \n",
       "2018-08-18 07:59:59              8.897321              3.130493   \n",
       "2018-08-18 08:59:59              8.529606              2.911418   \n",
       "2018-08-18 09:59:59              8.777171              2.819214   \n",
       "2018-08-18 10:59:59              8.406690              2.517518   \n",
       "\n",
       "                     final.output.tail_sol  final.output.tail_au  \\\n",
       "date                                                               \n",
       "2016-01-15 00:00:00              16.904297              2.143149   \n",
       "2016-01-15 01:00:00              16.634514              2.224930   \n",
       "2016-01-15 02:00:00              16.208849              2.257889   \n",
       "2016-01-15 03:00:00              16.532835              2.146849   \n",
       "2016-01-15 04:00:00              16.525686              2.055292   \n",
       "...                                    ...                   ...   \n",
       "2018-08-18 06:59:59              10.403181              1.529220   \n",
       "2018-08-18 07:59:59              10.549470              1.612542   \n",
       "2018-08-18 08:59:59              11.115147              1.596616   \n",
       "2018-08-18 09:59:59              10.463847              1.602879   \n",
       "2018-08-18 10:59:59              10.652193              1.389434   \n",
       "\n",
       "                     primary_cleaner.input.sulfate  ...  \\\n",
       "date                                                ...   \n",
       "2016-01-15 00:00:00                     127.092003  ...   \n",
       "2016-01-15 01:00:00                     125.629232  ...   \n",
       "2016-01-15 02:00:00                     123.819808  ...   \n",
       "2016-01-15 03:00:00                     122.270188  ...   \n",
       "2016-01-15 04:00:00                     117.988169  ...   \n",
       "...                                            ...  ...   \n",
       "2018-08-18 06:59:59                     123.381787  ...   \n",
       "2018-08-18 07:59:59                     120.878188  ...   \n",
       "2018-08-18 08:59:59                     105.666118  ...   \n",
       "2018-08-18 09:59:59                      98.880538  ...   \n",
       "2018-08-18 10:59:59                      95.248427  ...   \n",
       "\n",
       "                     secondary_cleaner.state.floatbank4_a_air  \\\n",
       "date                                                            \n",
       "2016-01-15 00:00:00                                 14.016835   \n",
       "2016-01-15 01:00:00                                 13.992281   \n",
       "2016-01-15 02:00:00                                 14.015015   \n",
       "2016-01-15 03:00:00                                 14.036510   \n",
       "2016-01-15 04:00:00                                 14.027298   \n",
       "...                                                       ...   \n",
       "2018-08-18 06:59:59                                 23.031497   \n",
       "2018-08-18 07:59:59                                 22.960095   \n",
       "2018-08-18 08:59:59                                 23.015718   \n",
       "2018-08-18 09:59:59                                 23.024963   \n",
       "2018-08-18 10:59:59                                 23.018622   \n",
       "\n",
       "                     secondary_cleaner.state.floatbank4_a_level  \\\n",
       "date                                                              \n",
       "2016-01-15 00:00:00                                 -502.488007   \n",
       "2016-01-15 01:00:00                                 -505.503262   \n",
       "2016-01-15 02:00:00                                 -502.520901   \n",
       "2016-01-15 03:00:00                                 -500.857308   \n",
       "2016-01-15 04:00:00                                 -499.838632   \n",
       "...                                                         ...   \n",
       "2018-08-18 06:59:59                                 -501.167942   \n",
       "2018-08-18 07:59:59                                 -501.612783   \n",
       "2018-08-18 08:59:59                                 -501.711599   \n",
       "2018-08-18 09:59:59                                 -501.153409   \n",
       "2018-08-18 10:59:59                                 -500.492702   \n",
       "\n",
       "                     secondary_cleaner.state.floatbank4_b_air  \\\n",
       "date                                                            \n",
       "2016-01-15 00:00:00                                 12.099931   \n",
       "2016-01-15 01:00:00                                 11.950531   \n",
       "2016-01-15 02:00:00                                 11.912783   \n",
       "2016-01-15 03:00:00                                 11.999550   \n",
       "2016-01-15 04:00:00                                 11.953070   \n",
       "...                                                       ...   \n",
       "2018-08-18 06:59:59                                 20.007571   \n",
       "2018-08-18 07:59:59                                 20.035660   \n",
       "2018-08-18 08:59:59                                 19.951231   \n",
       "2018-08-18 09:59:59                                 20.054122   \n",
       "2018-08-18 10:59:59                                 20.020205   \n",
       "\n",
       "                     secondary_cleaner.state.floatbank4_b_level  \\\n",
       "date                                                              \n",
       "2016-01-15 00:00:00                                 -504.715942   \n",
       "2016-01-15 01:00:00                                 -501.331529   \n",
       "2016-01-15 02:00:00                                 -501.133383   \n",
       "2016-01-15 03:00:00                                 -501.193686   \n",
       "2016-01-15 04:00:00                                 -501.053894   \n",
       "...                                                         ...   \n",
       "2018-08-18 06:59:59                                 -499.740028   \n",
       "2018-08-18 07:59:59                                 -500.251357   \n",
       "2018-08-18 08:59:59                                 -499.857027   \n",
       "2018-08-18 09:59:59                                 -500.314711   \n",
       "2018-08-18 10:59:59                                 -500.220296   \n",
       "\n",
       "                     secondary_cleaner.state.floatbank5_a_air  \\\n",
       "date                                                            \n",
       "2016-01-15 00:00:00                                  9.925633   \n",
       "2016-01-15 01:00:00                                 10.039245   \n",
       "2016-01-15 02:00:00                                 10.070913   \n",
       "2016-01-15 03:00:00                                  9.970366   \n",
       "2016-01-15 04:00:00                                  9.925709   \n",
       "...                                                       ...   \n",
       "2018-08-18 06:59:59                                 18.006038   \n",
       "2018-08-18 07:59:59                                 17.998535   \n",
       "2018-08-18 08:59:59                                 18.019543   \n",
       "2018-08-18 09:59:59                                 17.979515   \n",
       "2018-08-18 10:59:59                                 17.963512   \n",
       "\n",
       "                     secondary_cleaner.state.floatbank5_a_level  \\\n",
       "date                                                              \n",
       "2016-01-15 00:00:00                                 -498.310211   \n",
       "2016-01-15 01:00:00                                 -500.169983   \n",
       "2016-01-15 02:00:00                                 -500.129135   \n",
       "2016-01-15 03:00:00                                 -499.201640   \n",
       "2016-01-15 04:00:00                                 -501.686727   \n",
       "...                                                         ...   \n",
       "2018-08-18 06:59:59                                 -499.834374   \n",
       "2018-08-18 07:59:59                                 -500.395178   \n",
       "2018-08-18 08:59:59                                 -500.451156   \n",
       "2018-08-18 09:59:59                                 -499.272871   \n",
       "2018-08-18 10:59:59                                 -499.939490   \n",
       "\n",
       "                     secondary_cleaner.state.floatbank5_b_air  \\\n",
       "date                                                            \n",
       "2016-01-15 00:00:00                                  8.079666   \n",
       "2016-01-15 01:00:00                                  7.984757   \n",
       "2016-01-15 02:00:00                                  8.013877   \n",
       "2016-01-15 03:00:00                                  7.977324   \n",
       "2016-01-15 04:00:00                                  7.894242   \n",
       "...                                                       ...   \n",
       "2018-08-18 06:59:59                                 13.001114   \n",
       "2018-08-18 07:59:59                                 12.954048   \n",
       "2018-08-18 08:59:59                                 13.023431   \n",
       "2018-08-18 09:59:59                                 12.992404   \n",
       "2018-08-18 10:59:59                                 12.990306   \n",
       "\n",
       "                     secondary_cleaner.state.floatbank5_b_level  \\\n",
       "date                                                              \n",
       "2016-01-15 00:00:00                                 -500.470978   \n",
       "2016-01-15 01:00:00                                 -500.582168   \n",
       "2016-01-15 02:00:00                                 -500.517572   \n",
       "2016-01-15 03:00:00                                 -500.255908   \n",
       "2016-01-15 04:00:00                                 -500.356035   \n",
       "...                                                         ...   \n",
       "2018-08-18 06:59:59                                 -500.155694   \n",
       "2018-08-18 07:59:59                                 -499.895163   \n",
       "2018-08-18 08:59:59                                 -499.914391   \n",
       "2018-08-18 09:59:59                                 -499.976268   \n",
       "2018-08-18 10:59:59                                 -500.080993   \n",
       "\n",
       "                     secondary_cleaner.state.floatbank6_a_air  \\\n",
       "date                                                            \n",
       "2016-01-15 00:00:00                                 14.151341   \n",
       "2016-01-15 01:00:00                                 13.998353   \n",
       "2016-01-15 02:00:00                                 14.028663   \n",
       "2016-01-15 03:00:00                                 14.005551   \n",
       "2016-01-15 04:00:00                                 13.996647   \n",
       "...                                                       ...   \n",
       "2018-08-18 06:59:59                                 20.007840   \n",
       "2018-08-18 07:59:59                                 19.968498   \n",
       "2018-08-18 08:59:59                                 19.990885   \n",
       "2018-08-18 09:59:59                                 20.013986   \n",
       "2018-08-18 10:59:59                                 19.990336   \n",
       "\n",
       "                     secondary_cleaner.state.floatbank6_a_level  \n",
       "date                                                             \n",
       "2016-01-15 00:00:00                                 -605.841980  \n",
       "2016-01-15 01:00:00                                 -599.787184  \n",
       "2016-01-15 02:00:00                                 -601.427363  \n",
       "2016-01-15 03:00:00                                 -599.996129  \n",
       "2016-01-15 04:00:00                                 -601.496691  \n",
       "...                                                         ...  \n",
       "2018-08-18 06:59:59                                 -501.296428  \n",
       "2018-08-18 07:59:59                                 -501.041608  \n",
       "2018-08-18 08:59:59                                 -501.518452  \n",
       "2018-08-18 09:59:59                                 -500.625471  \n",
       "2018-08-18 10:59:59                                 -499.191575  \n",
       "\n",
       "[19439 rows x 86 columns]"
      ]
     },
     "execution_count": 12,
     "metadata": {},
     "output_type": "execute_result"
    }
   ],
   "source": [
    "df_gold_recovery_train.set_index('date')\n",
    "df_gold_recovery_test.set_index('date')\n",
    "df_gold_recovery_full.set_index('date')"
   ]
  },
  {
   "cell_type": "markdown",
   "metadata": {},
   "source": [
    "Удалим остуствующие признаки в тестовой выборки из обучающей:"
   ]
  },
  {
   "cell_type": "code",
   "execution_count": 13,
   "metadata": {},
   "outputs": [],
   "source": [
    "df_gold_recovery_train_cut = df_gold_recovery_train.drop(missed_names, axis=1)"
   ]
  },
  {
   "cell_type": "markdown",
   "metadata": {},
   "source": [
    "Так как для прогноза эффективности обогащения нужно найти долю золота в концентратах и хвостах на финальном этапе и после флотации (черновой концентрат), то выделим необходимые для обучения и оценки качества модели для обучающей и тестовой выборки, а именно:\n",
    "\n",
    "  - `final.output.recovery` - параметр для оценки качества\n",
    "  - `rougher.output.recovery` - параметр для оценки качества\n",
    "\n",
    "Выделимм эти параметры для обучающей и тестовой выборки из полной выборки:"
   ]
  },
  {
   "cell_type": "code",
   "execution_count": 14,
   "metadata": {},
   "outputs": [],
   "source": [
    "target_recovery_test_rougher = (\n",
    "df_gold_recovery_full[df_gold_recovery_full.index\n",
    "                      .isin(df_gold_recovery_test.index)]\n",
    "                      ['rougher.output.recovery']\n",
    ")"
   ]
  },
  {
   "cell_type": "code",
   "execution_count": 15,
   "metadata": {},
   "outputs": [],
   "source": [
    "target_recovery_test_final = (\n",
    "df_gold_recovery_full[df_gold_recovery_full['date']\n",
    "                      .isin(df_gold_recovery_test['date'])]\n",
    "                      ['final.output.recovery']\n",
    ")"
   ]
  },
  {
   "cell_type": "markdown",
   "metadata": {},
   "source": [
    "Проверим имеют ли пропуски вышеуказанные выборки:"
   ]
  },
  {
   "cell_type": "code",
   "execution_count": 16,
   "metadata": {},
   "outputs": [
    {
     "name": "stdout",
     "output_type": "stream",
     "text": [
      "0\n",
      "\n",
      "0\n"
     ]
    }
   ],
   "source": [
    "print(target_recovery_test_rougher.isna().sum())\n",
    "print()\n",
    "print(target_recovery_test_final.isna().sum())"
   ]
  },
  {
   "cell_type": "markdown",
   "metadata": {},
   "source": [
    "Из описания проекта известно, что \"соседние по времени параметры часто похожи\". Соотвественно пропущенные значения можно заполнить соседними данными. Заполним пропуски в тестовой и обучающей выборках:"
   ]
  },
  {
   "cell_type": "code",
   "execution_count": 18,
   "metadata": {},
   "outputs": [],
   "source": [
    "df_gold_recovery_train_cut_clear = df_gold_recovery_train_cut.fillna(method='ffill')\n",
    "df_gold_recovery_test_clear = df_gold_recovery_test.fillna(method='ffill')"
   ]
  },
  {
   "cell_type": "code",
   "execution_count": 19,
   "metadata": {
    "scrolled": false
   },
   "outputs": [
    {
     "name": "stdout",
     "output_type": "stream",
     "text": [
      "date                                          0\n",
      "primary_cleaner.input.sulfate                 0\n",
      "primary_cleaner.input.depressant              0\n",
      "primary_cleaner.input.feed_size               0\n",
      "primary_cleaner.input.xanthate                0\n",
      "primary_cleaner.state.floatbank8_a_air        0\n",
      "primary_cleaner.state.floatbank8_a_level      0\n",
      "primary_cleaner.state.floatbank8_b_air        0\n",
      "primary_cleaner.state.floatbank8_b_level      0\n",
      "primary_cleaner.state.floatbank8_c_air        0\n",
      "primary_cleaner.state.floatbank8_c_level      0\n",
      "primary_cleaner.state.floatbank8_d_air        0\n",
      "primary_cleaner.state.floatbank8_d_level      0\n",
      "rougher.input.feed_ag                         0\n",
      "rougher.input.feed_pb                         0\n",
      "rougher.input.feed_rate                       0\n",
      "rougher.input.feed_size                       0\n",
      "rougher.input.feed_sol                        0\n",
      "rougher.input.feed_au                         0\n",
      "rougher.input.floatbank10_sulfate             0\n",
      "rougher.input.floatbank10_xanthate            0\n",
      "rougher.input.floatbank11_sulfate             0\n",
      "rougher.input.floatbank11_xanthate            0\n",
      "rougher.state.floatbank10_a_air               0\n",
      "rougher.state.floatbank10_a_level             0\n",
      "rougher.state.floatbank10_b_air               0\n",
      "rougher.state.floatbank10_b_level             0\n",
      "rougher.state.floatbank10_c_air               0\n",
      "rougher.state.floatbank10_c_level             0\n",
      "rougher.state.floatbank10_d_air               0\n",
      "rougher.state.floatbank10_d_level             0\n",
      "rougher.state.floatbank10_e_air               0\n",
      "rougher.state.floatbank10_e_level             0\n",
      "rougher.state.floatbank10_f_air               0\n",
      "rougher.state.floatbank10_f_level             0\n",
      "secondary_cleaner.state.floatbank2_a_air      0\n",
      "secondary_cleaner.state.floatbank2_a_level    0\n",
      "secondary_cleaner.state.floatbank2_b_air      0\n",
      "secondary_cleaner.state.floatbank2_b_level    0\n",
      "secondary_cleaner.state.floatbank3_a_air      0\n",
      "secondary_cleaner.state.floatbank3_a_level    0\n",
      "secondary_cleaner.state.floatbank3_b_air      0\n",
      "secondary_cleaner.state.floatbank3_b_level    0\n",
      "secondary_cleaner.state.floatbank4_a_air      0\n",
      "secondary_cleaner.state.floatbank4_a_level    0\n",
      "secondary_cleaner.state.floatbank4_b_air      0\n",
      "secondary_cleaner.state.floatbank4_b_level    0\n",
      "secondary_cleaner.state.floatbank5_a_air      0\n",
      "secondary_cleaner.state.floatbank5_a_level    0\n",
      "secondary_cleaner.state.floatbank5_b_air      0\n",
      "secondary_cleaner.state.floatbank5_b_level    0\n",
      "secondary_cleaner.state.floatbank6_a_air      0\n",
      "secondary_cleaner.state.floatbank6_a_level    0\n",
      "dtype: int64\n",
      "\n",
      "date                                          0\n",
      "primary_cleaner.input.sulfate                 0\n",
      "primary_cleaner.input.depressant              0\n",
      "primary_cleaner.input.feed_size               0\n",
      "primary_cleaner.input.xanthate                0\n",
      "primary_cleaner.state.floatbank8_a_air        0\n",
      "primary_cleaner.state.floatbank8_a_level      0\n",
      "primary_cleaner.state.floatbank8_b_air        0\n",
      "primary_cleaner.state.floatbank8_b_level      0\n",
      "primary_cleaner.state.floatbank8_c_air        0\n",
      "primary_cleaner.state.floatbank8_c_level      0\n",
      "primary_cleaner.state.floatbank8_d_air        0\n",
      "primary_cleaner.state.floatbank8_d_level      0\n",
      "rougher.input.feed_ag                         0\n",
      "rougher.input.feed_pb                         0\n",
      "rougher.input.feed_rate                       0\n",
      "rougher.input.feed_size                       0\n",
      "rougher.input.feed_sol                        0\n",
      "rougher.input.feed_au                         0\n",
      "rougher.input.floatbank10_sulfate             0\n",
      "rougher.input.floatbank10_xanthate            0\n",
      "rougher.input.floatbank11_sulfate             0\n",
      "rougher.input.floatbank11_xanthate            0\n",
      "rougher.state.floatbank10_a_air               0\n",
      "rougher.state.floatbank10_a_level             0\n",
      "rougher.state.floatbank10_b_air               0\n",
      "rougher.state.floatbank10_b_level             0\n",
      "rougher.state.floatbank10_c_air               0\n",
      "rougher.state.floatbank10_c_level             0\n",
      "rougher.state.floatbank10_d_air               0\n",
      "rougher.state.floatbank10_d_level             0\n",
      "rougher.state.floatbank10_e_air               0\n",
      "rougher.state.floatbank10_e_level             0\n",
      "rougher.state.floatbank10_f_air               0\n",
      "rougher.state.floatbank10_f_level             0\n",
      "secondary_cleaner.state.floatbank2_a_air      0\n",
      "secondary_cleaner.state.floatbank2_a_level    0\n",
      "secondary_cleaner.state.floatbank2_b_air      0\n",
      "secondary_cleaner.state.floatbank2_b_level    0\n",
      "secondary_cleaner.state.floatbank3_a_air      0\n",
      "secondary_cleaner.state.floatbank3_a_level    0\n",
      "secondary_cleaner.state.floatbank3_b_air      0\n",
      "secondary_cleaner.state.floatbank3_b_level    0\n",
      "secondary_cleaner.state.floatbank4_a_air      0\n",
      "secondary_cleaner.state.floatbank4_a_level    0\n",
      "secondary_cleaner.state.floatbank4_b_air      0\n",
      "secondary_cleaner.state.floatbank4_b_level    0\n",
      "secondary_cleaner.state.floatbank5_a_air      0\n",
      "secondary_cleaner.state.floatbank5_a_level    0\n",
      "secondary_cleaner.state.floatbank5_b_air      0\n",
      "secondary_cleaner.state.floatbank5_b_level    0\n",
      "secondary_cleaner.state.floatbank6_a_air      0\n",
      "secondary_cleaner.state.floatbank6_a_level    0\n",
      "dtype: int64\n"
     ]
    }
   ],
   "source": [
    "print(df_gold_recovery_train_cut_clear.isna().sum())\n",
    "print()\n",
    "print(df_gold_recovery_test_clear.isna().sum())"
   ]
  },
  {
   "cell_type": "markdown",
   "metadata": {},
   "source": [
    "### Выводы:"
   ]
  },
  {
   "cell_type": "markdown",
   "metadata": {},
   "source": [
    "* Выполнен обзор данных. Имеется 3 таблицы данны: тестовая выборка, обучающая выборка и полная выборка.\n",
    "\n",
    "    \n",
    "* **Для обучающей выборки:**\n",
    "В таблице 87 столбцов и 14149 строк, имеются нулевые значения (или пропущенные) в ряде столбцов. Типы данных: 86       столбцов с вещественными значениями типа float64, 1 столбец со строковым типом object. Используемый объем памяти 10.3    MB. \n",
    "\n",
    "\n",
    "* **Для тестовой выборки:**\n",
    "В таблице 53 столбцов и 5290 строк, имеются нулевые значения (или пропущенные) в ряде столбцов. Типы данных: 52 столбцов с вещественными значениями типа float64, 1 столбец со строковым типом object. Используемый объем памяти 2.5 MB. \n",
    "\n",
    "\n",
    "* **Для полной выборки:**\n",
    "В таблице 87 столбцов и 19439 строк, имеются нулевые значения (или пропущенные) в ряде столбцов. Типы данных: 86 столбцов с вещественными значениями типа float64, 1 столбец со строковым типом object. Используемый объем памяти 14.2 MB. \n",
    "\n",
    "\n",
    "\n",
    "* Проверена правильность расчета эффективности обогащения `rougher.output.recovery`  на обучающей выборке, MAE = 9.73e-15\n",
    "\n",
    "* Обнаружены пропущенные значения во всех табицах.\n",
    "\n",
    "* Обнаружено, что тестовая выборка не содержит 34 признака из обучающей выборки,что связано с невозможность получить данные до конца технологического процесса. При анализе \"выбывших\" признаков можно отметить, что это признаки выходных параметров (тип `outputs`) каждого этапа технологического процесса, а именно доли металлов в концентрате и хвостах после флотации, первичной отчиски и вторичной отчиски. Также в список выбывших признаков попали расчетные значения (тип `calculation`) для этапа флотации. Также отметим, что в списке выбывших имеется эффективность обогащения финального и чернового концентрата `final.output.recovery` и `rougher.output.recovery` соотвестенно.\n",
    "\n",
    "\n",
    "* В рамках подготовки данных было выполнено:\n",
    "    -   Удалены отсуствующие в тестовой выборке признаки из обучающей выборки;\n",
    "    -   Будут удалены столбцы, которые не являются признакми для обучения модели, это `date` (см.раздел 3.2);\n",
    "    -   Выделены обучающая и тесовая выборки для обучения моделей на этапе флотации и на финальном этапе;\n",
    "    -   Из полной выборки выделены выделены выборки из соотвествующих целевых признаков для обучения моделей на этапе флотации и на финальном этапе;\n",
    "    - Из полной выборки выделены целевые коэффициенты обогащения для проерки качества моделей.\n",
    "    - Во всех выборках устранены пропущенные значения."
   ]
  },
  {
   "cell_type": "markdown",
   "metadata": {},
   "source": [
    "## 3. Анализ данных"
   ]
  },
  {
   "cell_type": "markdown",
   "metadata": {},
   "source": [
    "### 3.1 Анализ концентрации металла на различных этапах отчистки"
   ]
  },
  {
   "cell_type": "markdown",
   "metadata": {},
   "source": [
    "Проведем анализ концентрации металлов (Au, Ag, Pb) на разных этапах отчистки. Анализ проведем на базе данных полной выборки `df_gold_recovery_full`:"
   ]
  },
  {
   "cell_type": "code",
   "execution_count": 41,
   "metadata": {},
   "outputs": [
    {
     "data": {
      "text/plain": [
       "Text(0, 0.5, '')"
      ]
     },
     "execution_count": 41,
     "metadata": {},
     "output_type": "execute_result"
    },
    {
     "data": {
      "image/png": "[encoded data removed]",
      "text/plain": [
       "<Figure size 1600x800 with 4 Axes>"
      ]
     },
     "metadata": {},
     "output_type": "display_data"
    }
   ],
   "source": [
    "fig, (ax1, ax2, ax3, ax4) = plt.subplots(nrows=1, ncols=4, sharey=True, figsize=(16,8))\n",
    "\n",
    "df_gold_recovery_full.rename(\n",
    "    columns={\"rougher.input.feed_ag\": \"ag\", \n",
    "             \"rougher.input.feed_pb\": \"pb\", \n",
    "             \"rougher.input.feed_au\": \"au\"}).boxplot(column=['ag','pb','au'], ax=ax1)\n",
    "                                            \n",
    "\n",
    "df_gold_recovery_full.rename(\n",
    "    columns={\"rougher.output.concentrate_ag\": \"ag\", \n",
    "             \"rougher.output.concentrate_pb\": \"pb\", \n",
    "             \"rougher.output.concentrate_au\": \"au\"}).boxplot(column=['ag','pb','au'], ax=ax2)\n",
    "    \n",
    "df_gold_recovery_full.rename(\n",
    "    columns={\"primary_cleaner.output.concentrate_ag\": \"ag\", \n",
    "             \"primary_cleaner.output.concentrate_pb\": \"pb\", \n",
    "             \"primary_cleaner.output.concentrate_au\": \"au\"}).boxplot(column=['ag','pb','au'], ax=ax3)\n",
    "    \n",
    "df_gold_recovery_full.rename(\n",
    "    columns={\"final.output.concentrate_ag\": \"ag\", \n",
    "             \"final.output.concentrate_pb\": \"pb\", \n",
    "             \"final.output.concentrate_au\": \"au\"}).boxplot(column=['ag','pb','au'], ax=ax4)\n",
    "\n",
    "ax1.set_title('Входное сырье', fontsize=10)\n",
    "ax1.set_ylabel('Концентрация')\n",
    "ax2.set_title('Флотация (Черновой концентрат)', fontsize=10)\n",
    "ax2.set_ylabel('')\n",
    "ax3.set_title('Первичная отчистка', fontsize=10)\n",
    "ax3.set_ylabel('')\n",
    "ax4.set_title('Финальный концентрат', fontsize=10)\n",
    "ax4.set_ylabel('')"
   ]
  },
  {
   "cell_type": "code",
   "execution_count": 42,
   "metadata": {},
   "outputs": [
    {
     "data": {
      "text/html": [
       "<div>\n",
       "<style scoped>\n",
       "    .dataframe tbody tr th:only-of-type {\n",
       "        vertical-align: middle;\n",
       "    }\n",
       "\n",
       "    .dataframe tbody tr th {\n",
       "        vertical-align: top;\n",
       "    }\n",
       "\n",
       "    .dataframe thead th {\n",
       "        text-align: right;\n",
       "    }\n",
       "</style>\n",
       "<table border=\"1\" class=\"dataframe\">\n",
       "  <thead>\n",
       "    <tr style=\"text-align: right;\">\n",
       "      <th></th>\n",
       "      <th>rougher.input.feed_ag</th>\n",
       "      <th>rougher.input.feed_pb</th>\n",
       "      <th>rougher.input.feed_au</th>\n",
       "    </tr>\n",
       "  </thead>\n",
       "  <tbody>\n",
       "    <tr>\n",
       "      <th>count</th>\n",
       "      <td>19439.000000</td>\n",
       "      <td>19339.000000</td>\n",
       "      <td>19439.000000</td>\n",
       "    </tr>\n",
       "    <tr>\n",
       "      <th>mean</th>\n",
       "      <td>8.794927</td>\n",
       "      <td>3.598085</td>\n",
       "      <td>8.266097</td>\n",
       "    </tr>\n",
       "    <tr>\n",
       "      <th>std</th>\n",
       "      <td>1.936847</td>\n",
       "      <td>1.049486</td>\n",
       "      <td>1.955092</td>\n",
       "    </tr>\n",
       "    <tr>\n",
       "      <th>min</th>\n",
       "      <td>0.010000</td>\n",
       "      <td>0.010000</td>\n",
       "      <td>0.010000</td>\n",
       "    </tr>\n",
       "    <tr>\n",
       "      <th>25%</th>\n",
       "      <td>7.237967</td>\n",
       "      <td>2.887280</td>\n",
       "      <td>6.854384</td>\n",
       "    </tr>\n",
       "    <tr>\n",
       "      <th>50%</th>\n",
       "      <td>8.593574</td>\n",
       "      <td>3.534895</td>\n",
       "      <td>8.125839</td>\n",
       "    </tr>\n",
       "    <tr>\n",
       "      <th>75%</th>\n",
       "      <td>10.213771</td>\n",
       "      <td>4.244161</td>\n",
       "      <td>9.769917</td>\n",
       "    </tr>\n",
       "    <tr>\n",
       "      <th>max</th>\n",
       "      <td>14.596026</td>\n",
       "      <td>7.142594</td>\n",
       "      <td>13.731330</td>\n",
       "    </tr>\n",
       "  </tbody>\n",
       "</table>\n",
       "</div>"
      ],
      "text/plain": [
       "       rougher.input.feed_ag  rougher.input.feed_pb  rougher.input.feed_au\n",
       "count           19439.000000           19339.000000           19439.000000\n",
       "mean                8.794927               3.598085               8.266097\n",
       "std                 1.936847               1.049486               1.955092\n",
       "min                 0.010000               0.010000               0.010000\n",
       "25%                 7.237967               2.887280               6.854384\n",
       "50%                 8.593574               3.534895               8.125839\n",
       "75%                10.213771               4.244161               9.769917\n",
       "max                14.596026               7.142594              13.731330"
      ]
     },
     "execution_count": 42,
     "metadata": {},
     "output_type": "execute_result"
    }
   ],
   "source": [
    "df_gold_recovery_full[['rougher.input.feed_ag',\n",
    "                       'rougher.input.feed_pb', \n",
    "                       'rougher.input.feed_au']].describe()"
   ]
  },
  {
   "cell_type": "code",
   "execution_count": 43,
   "metadata": {
    "scrolled": true
   },
   "outputs": [
    {
     "data": {
      "text/html": [
       "<div>\n",
       "<style scoped>\n",
       "    .dataframe tbody tr th:only-of-type {\n",
       "        vertical-align: middle;\n",
       "    }\n",
       "\n",
       "    .dataframe tbody tr th {\n",
       "        vertical-align: top;\n",
       "    }\n",
       "\n",
       "    .dataframe thead th {\n",
       "        text-align: right;\n",
       "    }\n",
       "</style>\n",
       "<table border=\"1\" class=\"dataframe\">\n",
       "  <thead>\n",
       "    <tr style=\"text-align: right;\">\n",
       "      <th></th>\n",
       "      <th>rougher.output.concentrate_ag</th>\n",
       "      <th>rougher.output.concentrate_pb</th>\n",
       "      <th>rougher.output.concentrate_au</th>\n",
       "    </tr>\n",
       "  </thead>\n",
       "  <tbody>\n",
       "    <tr>\n",
       "      <th>count</th>\n",
       "      <td>19439.000000</td>\n",
       "      <td>19439.000000</td>\n",
       "      <td>19439.000000</td>\n",
       "    </tr>\n",
       "    <tr>\n",
       "      <th>mean</th>\n",
       "      <td>11.994759</td>\n",
       "      <td>7.606272</td>\n",
       "      <td>19.772000</td>\n",
       "    </tr>\n",
       "    <tr>\n",
       "      <th>std</th>\n",
       "      <td>2.733862</td>\n",
       "      <td>1.796757</td>\n",
       "      <td>3.753600</td>\n",
       "    </tr>\n",
       "    <tr>\n",
       "      <th>min</th>\n",
       "      <td>0.000000</td>\n",
       "      <td>0.000000</td>\n",
       "      <td>0.000000</td>\n",
       "    </tr>\n",
       "    <tr>\n",
       "      <th>25%</th>\n",
       "      <td>10.628337</td>\n",
       "      <td>6.725987</td>\n",
       "      <td>18.802523</td>\n",
       "    </tr>\n",
       "    <tr>\n",
       "      <th>50%</th>\n",
       "      <td>12.098115</td>\n",
       "      <td>7.742580</td>\n",
       "      <td>20.280214</td>\n",
       "    </tr>\n",
       "    <tr>\n",
       "      <th>75%</th>\n",
       "      <td>13.736996</td>\n",
       "      <td>8.565199</td>\n",
       "      <td>21.717843</td>\n",
       "    </tr>\n",
       "    <tr>\n",
       "      <th>max</th>\n",
       "      <td>24.480271</td>\n",
       "      <td>13.617072</td>\n",
       "      <td>28.824507</td>\n",
       "    </tr>\n",
       "  </tbody>\n",
       "</table>\n",
       "</div>"
      ],
      "text/plain": [
       "       rougher.output.concentrate_ag  rougher.output.concentrate_pb  \\\n",
       "count                   19439.000000                   19439.000000   \n",
       "mean                       11.994759                       7.606272   \n",
       "std                         2.733862                       1.796757   \n",
       "min                         0.000000                       0.000000   \n",
       "25%                        10.628337                       6.725987   \n",
       "50%                        12.098115                       7.742580   \n",
       "75%                        13.736996                       8.565199   \n",
       "max                        24.480271                      13.617072   \n",
       "\n",
       "       rougher.output.concentrate_au  \n",
       "count                   19439.000000  \n",
       "mean                       19.772000  \n",
       "std                         3.753600  \n",
       "min                         0.000000  \n",
       "25%                        18.802523  \n",
       "50%                        20.280214  \n",
       "75%                        21.717843  \n",
       "max                        28.824507  "
      ]
     },
     "execution_count": 43,
     "metadata": {},
     "output_type": "execute_result"
    }
   ],
   "source": [
    "df_gold_recovery_full[['rougher.output.concentrate_ag',\n",
    "                       'rougher.output.concentrate_pb', \n",
    "                       'rougher.output.concentrate_au']].describe()"
   ]
  },
  {
   "cell_type": "code",
   "execution_count": 44,
   "metadata": {
    "scrolled": true
   },
   "outputs": [
    {
     "data": {
      "text/html": [
       "<div>\n",
       "<style scoped>\n",
       "    .dataframe tbody tr th:only-of-type {\n",
       "        vertical-align: middle;\n",
       "    }\n",
       "\n",
       "    .dataframe tbody tr th {\n",
       "        vertical-align: top;\n",
       "    }\n",
       "\n",
       "    .dataframe thead th {\n",
       "        text-align: right;\n",
       "    }\n",
       "</style>\n",
       "<table border=\"1\" class=\"dataframe\">\n",
       "  <thead>\n",
       "    <tr style=\"text-align: right;\">\n",
       "      <th></th>\n",
       "      <th>primary_cleaner.output.concentrate_ag</th>\n",
       "      <th>primary_cleaner.output.concentrate_pb</th>\n",
       "      <th>primary_cleaner.output.concentrate_au</th>\n",
       "    </tr>\n",
       "  </thead>\n",
       "  <tbody>\n",
       "    <tr>\n",
       "      <th>count</th>\n",
       "      <td>19439.000000</td>\n",
       "      <td>19323.000000</td>\n",
       "      <td>19439.000000</td>\n",
       "    </tr>\n",
       "    <tr>\n",
       "      <th>mean</th>\n",
       "      <td>8.442408</td>\n",
       "      <td>9.829530</td>\n",
       "      <td>32.119400</td>\n",
       "    </tr>\n",
       "    <tr>\n",
       "      <th>std</th>\n",
       "      <td>2.054465</td>\n",
       "      <td>2.556843</td>\n",
       "      <td>5.627611</td>\n",
       "    </tr>\n",
       "    <tr>\n",
       "      <th>min</th>\n",
       "      <td>0.000000</td>\n",
       "      <td>0.000000</td>\n",
       "      <td>0.000000</td>\n",
       "    </tr>\n",
       "    <tr>\n",
       "      <th>25%</th>\n",
       "      <td>7.263288</td>\n",
       "      <td>8.702328</td>\n",
       "      <td>30.463140</td>\n",
       "    </tr>\n",
       "    <tr>\n",
       "      <th>50%</th>\n",
       "      <td>8.507298</td>\n",
       "      <td>10.152433</td>\n",
       "      <td>32.841295</td>\n",
       "    </tr>\n",
       "    <tr>\n",
       "      <th>75%</th>\n",
       "      <td>9.809001</td>\n",
       "      <td>11.424971</td>\n",
       "      <td>35.048006</td>\n",
       "    </tr>\n",
       "    <tr>\n",
       "      <th>max</th>\n",
       "      <td>16.081632</td>\n",
       "      <td>17.081278</td>\n",
       "      <td>45.933934</td>\n",
       "    </tr>\n",
       "  </tbody>\n",
       "</table>\n",
       "</div>"
      ],
      "text/plain": [
       "       primary_cleaner.output.concentrate_ag  \\\n",
       "count                           19439.000000   \n",
       "mean                                8.442408   \n",
       "std                                 2.054465   \n",
       "min                                 0.000000   \n",
       "25%                                 7.263288   \n",
       "50%                                 8.507298   \n",
       "75%                                 9.809001   \n",
       "max                                16.081632   \n",
       "\n",
       "       primary_cleaner.output.concentrate_pb  \\\n",
       "count                           19323.000000   \n",
       "mean                                9.829530   \n",
       "std                                 2.556843   \n",
       "min                                 0.000000   \n",
       "25%                                 8.702328   \n",
       "50%                                10.152433   \n",
       "75%                                11.424971   \n",
       "max                                17.081278   \n",
       "\n",
       "       primary_cleaner.output.concentrate_au  \n",
       "count                           19439.000000  \n",
       "mean                               32.119400  \n",
       "std                                 5.627611  \n",
       "min                                 0.000000  \n",
       "25%                                30.463140  \n",
       "50%                                32.841295  \n",
       "75%                                35.048006  \n",
       "max                                45.933934  "
      ]
     },
     "execution_count": 44,
     "metadata": {},
     "output_type": "execute_result"
    }
   ],
   "source": [
    "df_gold_recovery_full[['primary_cleaner.output.concentrate_ag',\n",
    "                       'primary_cleaner.output.concentrate_pb', \n",
    "                       'primary_cleaner.output.concentrate_au']].describe()"
   ]
  },
  {
   "cell_type": "code",
   "execution_count": 45,
   "metadata": {
    "scrolled": true
   },
   "outputs": [
    {
     "data": {
      "text/html": [
       "<div>\n",
       "<style scoped>\n",
       "    .dataframe tbody tr th:only-of-type {\n",
       "        vertical-align: middle;\n",
       "    }\n",
       "\n",
       "    .dataframe tbody tr th {\n",
       "        vertical-align: top;\n",
       "    }\n",
       "\n",
       "    .dataframe thead th {\n",
       "        text-align: right;\n",
       "    }\n",
       "</style>\n",
       "<table border=\"1\" class=\"dataframe\">\n",
       "  <thead>\n",
       "    <tr style=\"text-align: right;\">\n",
       "      <th></th>\n",
       "      <th>final.output.concentrate_ag</th>\n",
       "      <th>final.output.concentrate_pb</th>\n",
       "      <th>final.output.concentrate_au</th>\n",
       "    </tr>\n",
       "  </thead>\n",
       "  <tbody>\n",
       "    <tr>\n",
       "      <th>count</th>\n",
       "      <td>19438.000000</td>\n",
       "      <td>19438.000000</td>\n",
       "      <td>19439.000000</td>\n",
       "    </tr>\n",
       "    <tr>\n",
       "      <th>mean</th>\n",
       "      <td>5.168470</td>\n",
       "      <td>9.978895</td>\n",
       "      <td>44.076513</td>\n",
       "    </tr>\n",
       "    <tr>\n",
       "      <th>std</th>\n",
       "      <td>1.372348</td>\n",
       "      <td>1.669240</td>\n",
       "      <td>5.129784</td>\n",
       "    </tr>\n",
       "    <tr>\n",
       "      <th>min</th>\n",
       "      <td>0.000000</td>\n",
       "      <td>0.000000</td>\n",
       "      <td>0.000000</td>\n",
       "    </tr>\n",
       "    <tr>\n",
       "      <th>25%</th>\n",
       "      <td>4.251240</td>\n",
       "      <td>9.137262</td>\n",
       "      <td>43.402215</td>\n",
       "    </tr>\n",
       "    <tr>\n",
       "      <th>50%</th>\n",
       "      <td>5.066094</td>\n",
       "      <td>10.102433</td>\n",
       "      <td>45.011244</td>\n",
       "    </tr>\n",
       "    <tr>\n",
       "      <th>75%</th>\n",
       "      <td>5.895527</td>\n",
       "      <td>11.035769</td>\n",
       "      <td>46.275313</td>\n",
       "    </tr>\n",
       "    <tr>\n",
       "      <th>max</th>\n",
       "      <td>16.001945</td>\n",
       "      <td>17.031899</td>\n",
       "      <td>52.756638</td>\n",
       "    </tr>\n",
       "  </tbody>\n",
       "</table>\n",
       "</div>"
      ],
      "text/plain": [
       "       final.output.concentrate_ag  final.output.concentrate_pb  \\\n",
       "count                 19438.000000                 19438.000000   \n",
       "mean                      5.168470                     9.978895   \n",
       "std                       1.372348                     1.669240   \n",
       "min                       0.000000                     0.000000   \n",
       "25%                       4.251240                     9.137262   \n",
       "50%                       5.066094                    10.102433   \n",
       "75%                       5.895527                    11.035769   \n",
       "max                      16.001945                    17.031899   \n",
       "\n",
       "       final.output.concentrate_au  \n",
       "count                 19439.000000  \n",
       "mean                     44.076513  \n",
       "std                       5.129784  \n",
       "min                       0.000000  \n",
       "25%                      43.402215  \n",
       "50%                      45.011244  \n",
       "75%                      46.275313  \n",
       "max                      52.756638  "
      ]
     },
     "execution_count": 45,
     "metadata": {},
     "output_type": "execute_result"
    }
   ],
   "source": [
    "df_gold_recovery_full[['final.output.concentrate_ag',\n",
    "                       'final.output.concentrate_pb', \n",
    "                       'final.output.concentrate_au']].describe()"
   ]
  },
  {
   "cell_type": "markdown",
   "metadata": {},
   "source": [
    "По результатам анализа видно изменение концентраций на разных этапах отчиски. Медиана концентрации золота в сырье составляет 8.125 с ростом медианы концентрации на каждом последующем этапе и достижением 45.01 на финальном этапе. Также можно отметить небольшой рост концентации свинца после этапа флотации, отсуствия динамик на этах последующей отчистки. Динамика изменения концентраций серебра показывает увеличение значения на этапе флотации, и возвращение к исходным показателям на финальном этапе. "
   ]
  },
  {
   "cell_type": "markdown",
   "metadata": {},
   "source": [
    "### 3.2 Анализ суммарной концентрации всех веществ на разных стадиях"
   ]
  },
  {
   "cell_type": "markdown",
   "metadata": {},
   "source": [
    "Проведем анализ суммарной концентрации всех веществ на стадии сырья, чернового концентрата и финального концентрата. Рассчитаем концентрации на каждой стадии:"
   ]
  },
  {
   "cell_type": "code",
   "execution_count": 46,
   "metadata": {},
   "outputs": [],
   "source": [
    "df_gold_recovery_full['rougher.input.feed_total'] = (df_gold_recovery_full['rougher.input.feed_au'] + \n",
    "                                                     df_gold_recovery_full['rougher.input.feed_pb'] + \n",
    "                                                     df_gold_recovery_full['rougher.input.feed_ag'] + \n",
    "                                                     df_gold_recovery_full['rougher.input.feed_sol'])"
   ]
  },
  {
   "cell_type": "code",
   "execution_count": 47,
   "metadata": {},
   "outputs": [],
   "source": [
    "df_gold_recovery_full['rougher.output.concentrate_total'] = (df_gold_recovery_full['rougher.output.concentrate_au'] + \n",
    "                                                     df_gold_recovery_full['rougher.output.concentrate_pb'] + \n",
    "                                                     df_gold_recovery_full['rougher.output.concentrate_ag'] + \n",
    "                                                     df_gold_recovery_full['rougher.output.concentrate_sol'])"
   ]
  },
  {
   "cell_type": "code",
   "execution_count": 48,
   "metadata": {},
   "outputs": [],
   "source": [
    "df_gold_recovery_full['final.output.concentrate_total'] = (df_gold_recovery_full['final.output.concentrate_au'] + \n",
    "                                                     df_gold_recovery_full['final.output.concentrate_pb'] + \n",
    "                                                     df_gold_recovery_full['final.output.concentrate_ag'] + \n",
    "                                                     df_gold_recovery_full['final.output.concentrate_sol'])"
   ]
  },
  {
   "cell_type": "markdown",
   "metadata": {},
   "source": [
    "Построим диаграмму размаха:"
   ]
  },
  {
   "cell_type": "code",
   "execution_count": 49,
   "metadata": {},
   "outputs": [
    {
     "data": {
      "text/plain": [
       "Text(0, 0.5, '')"
      ]
     },
     "execution_count": 49,
     "metadata": {},
     "output_type": "execute_result"
    },
    {
     "data": {
      "image/png": "[encoded data removed]",
      "text/plain": [
       "<Figure size 1600x800 with 1 Axes>"
      ]
     },
     "metadata": {},
     "output_type": "display_data"
    }
   ],
   "source": [
    "fig, (ax) = plt.subplots(nrows=1, ncols=1, sharey=True, figsize=(16,8))\n",
    "\n",
    "df_gold_recovery_full.rename(\n",
    "    columns={\"rougher.input.feed_total\": \"Сырье\", \n",
    "             \"rougher.output.concentrate_total\": \"Черновой_концентрат\", \n",
    "             \"final.output.concentrate_total\": \"Финальный_концентрат\"}).boxplot(\n",
    "                column=['Сырье','Черновой_концентрат','Финальный_концентрат'], ax=ax)\n",
    "\n",
    "ax.set_title('Концентрация веществ на разных стадиях', fontsize=15)\n",
    "ax.set_ylabel('')"
   ]
  },
  {
   "cell_type": "code",
   "execution_count": 50,
   "metadata": {},
   "outputs": [
    {
     "data": {
      "text/html": [
       "<div>\n",
       "<style scoped>\n",
       "    .dataframe tbody tr th:only-of-type {\n",
       "        vertical-align: middle;\n",
       "    }\n",
       "\n",
       "    .dataframe tbody tr th {\n",
       "        vertical-align: top;\n",
       "    }\n",
       "\n",
       "    .dataframe thead th {\n",
       "        text-align: right;\n",
       "    }\n",
       "</style>\n",
       "<table border=\"1\" class=\"dataframe\">\n",
       "  <thead>\n",
       "    <tr style=\"text-align: right;\">\n",
       "      <th></th>\n",
       "      <th>rougher.input.feed_total</th>\n",
       "      <th>rougher.output.concentrate_total</th>\n",
       "      <th>final.output.concentrate_total</th>\n",
       "    </tr>\n",
       "  </thead>\n",
       "  <tbody>\n",
       "    <tr>\n",
       "      <th>count</th>\n",
       "      <td>19245.000000</td>\n",
       "      <td>19416.000000</td>\n",
       "      <td>19227.000000</td>\n",
       "    </tr>\n",
       "    <tr>\n",
       "      <th>mean</th>\n",
       "      <td>57.407926</td>\n",
       "      <td>68.188914</td>\n",
       "      <td>68.727562</td>\n",
       "    </tr>\n",
       "    <tr>\n",
       "      <th>std</th>\n",
       "      <td>7.165219</td>\n",
       "      <td>12.478522</td>\n",
       "      <td>7.423741</td>\n",
       "    </tr>\n",
       "    <tr>\n",
       "      <th>min</th>\n",
       "      <td>0.040000</td>\n",
       "      <td>0.000000</td>\n",
       "      <td>0.000000</td>\n",
       "    </tr>\n",
       "    <tr>\n",
       "      <th>25%</th>\n",
       "      <td>53.660745</td>\n",
       "      <td>66.026048</td>\n",
       "      <td>67.985659</td>\n",
       "    </tr>\n",
       "    <tr>\n",
       "      <th>50%</th>\n",
       "      <td>57.647093</td>\n",
       "      <td>70.186130</td>\n",
       "      <td>69.632597</td>\n",
       "    </tr>\n",
       "    <tr>\n",
       "      <th>75%</th>\n",
       "      <td>62.012223</td>\n",
       "      <td>74.362878</td>\n",
       "      <td>71.390461</td>\n",
       "    </tr>\n",
       "    <tr>\n",
       "      <th>max</th>\n",
       "      <td>76.978947</td>\n",
       "      <td>88.140119</td>\n",
       "      <td>80.210644</td>\n",
       "    </tr>\n",
       "  </tbody>\n",
       "</table>\n",
       "</div>"
      ],
      "text/plain": [
       "       rougher.input.feed_total  rougher.output.concentrate_total  \\\n",
       "count              19245.000000                      19416.000000   \n",
       "mean                  57.407926                         68.188914   \n",
       "std                    7.165219                         12.478522   \n",
       "min                    0.040000                          0.000000   \n",
       "25%                   53.660745                         66.026048   \n",
       "50%                   57.647093                         70.186130   \n",
       "75%                   62.012223                         74.362878   \n",
       "max                   76.978947                         88.140119   \n",
       "\n",
       "       final.output.concentrate_total  \n",
       "count                    19227.000000  \n",
       "mean                        68.727562  \n",
       "std                          7.423741  \n",
       "min                          0.000000  \n",
       "25%                         67.985659  \n",
       "50%                         69.632597  \n",
       "75%                         71.390461  \n",
       "max                         80.210644  "
      ]
     },
     "execution_count": 50,
     "metadata": {},
     "output_type": "execute_result"
    }
   ],
   "source": [
    "df_gold_recovery_full[['rougher.input.feed_total',\n",
    "                       'rougher.output.concentrate_total', \n",
    "                       'final.output.concentrate_total']].describe()"
   ]
  },
  {
   "cell_type": "markdown",
   "metadata": {},
   "source": [
    "Из анализа данных видно, что суммарная концентрация веществ увеличивается на стадии чернового концентрата, но на финальном этапе незначительно снижается (медиана на черновом концентрате составляет 70.1, на финальном 69.6, при этом размах значений на финальном этапе сокращается. Также отмечены нулевые значения, что может быть следствием отсуствия веществ на стадии сырья. Преположим, что аномалий в данных нет, так как распределения концентрация выглядят идетично на каждом этапе."
   ]
  },
  {
   "cell_type": "markdown",
   "metadata": {},
   "source": [
    "Отчистим данные для обучения моделей (train выборка) от аномалий. Выберем пороговым значения сумарную концентрацию не менее 1:"
   ]
  },
  {
   "cell_type": "code",
   "execution_count": 32,
   "metadata": {},
   "outputs": [],
   "source": [
    "around_zero_concentrate_index = df_gold_recovery_full.query(\n",
    "'`rougher.input.feed_total` < 1 or `rougher.output.concentrate_total` < 1 or `final.output.concentrate_total` < 1')['date']"
   ]
  },
  {
   "cell_type": "code",
   "execution_count": 51,
   "metadata": {},
   "outputs": [
    {
     "data": {
      "text/plain": [
       "45      2016-01-16 21:00:00\n",
       "46      2016-01-16 22:00:00\n",
       "47      2016-01-16 23:00:00\n",
       "48      2016-01-17 00:00:00\n",
       "49      2016-01-17 02:00:00\n",
       "                ...        \n",
       "16227   2018-03-12 03:59:59\n",
       "16228   2018-03-12 04:59:59\n",
       "16229   2018-03-12 05:59:59\n",
       "16230   2018-03-12 06:59:59\n",
       "17567   2018-05-15 04:59:59\n",
       "Name: date, Length: 496, dtype: datetime64[ns]"
      ]
     },
     "execution_count": 51,
     "metadata": {},
     "output_type": "execute_result"
    }
   ],
   "source": [
    "around_zero_concentrate_index"
   ]
  },
  {
   "cell_type": "code",
   "execution_count": 52,
   "metadata": {},
   "outputs": [],
   "source": [
    "df_gold_recovery_train_cut_clear_all = (\n",
    "df_gold_recovery_train_cut_clear.drop(df_gold_recovery_train_cut_clear[df_gold_recovery_train_cut_clear['date']\n",
    "                      .isin(around_zero_concentrate_index)].index)\n",
    ")\n"
   ]
  },
  {
   "cell_type": "code",
   "execution_count": 53,
   "metadata": {},
   "outputs": [],
   "source": [
    "df_gold_recovery_train_for_target = (\n",
    "df_gold_recovery_train.drop(df_gold_recovery_train[df_gold_recovery_train['date']\n",
    "                      .isin(around_zero_concentrate_index)].index)\n",
    ")"
   ]
  },
  {
   "cell_type": "code",
   "execution_count": 54,
   "metadata": {},
   "outputs": [],
   "source": [
    "target_train_rougher_stage = df_gold_recovery_train_for_target['rougher.output.recovery']\n",
    "target_train_final_stage = df_gold_recovery_train_for_target['final.output.recovery']"
   ]
  },
  {
   "cell_type": "markdown",
   "metadata": {},
   "source": [
    "Удалим столбец `date` , так как он не будет участвовать в процессе обучения модели и подготовим итоговые выборки к обучению:"
   ]
  },
  {
   "cell_type": "code",
   "execution_count": 55,
   "metadata": {},
   "outputs": [],
   "source": [
    "#признаки для обучения на этапе флотации\n",
    "features_rougher_stage_train = (\n",
    "df_gold_recovery_train_cut_clear_all.loc[:, 'rougher.input.feed_ag':'rougher.state.floatbank10_f_level']\n",
    ")\n",
    "\n",
    "\n",
    "#признаки для обучения на финальном этапе\n",
    "features_final_stage_train_1 = (\n",
    "df_gold_recovery_train_cut_clear_all.\n",
    "    drop(df_gold_recovery_train_cut_clear.\n",
    "         loc[:,'rougher.input.feed_ag':'rougher.state.floatbank10_f_level'], axis=1)\n",
    ")\n",
    "\n",
    "features_final_stage_train = features_final_stage_train_1.drop('date', axis=1)"
   ]
  },
  {
   "cell_type": "code",
   "execution_count": 56,
   "metadata": {},
   "outputs": [],
   "source": [
    "#признаки для тестовой выборки на этапе флотации\n",
    "features_rougher_stage_test = (\n",
    "df_gold_recovery_test_clear.loc[:, 'rougher.input.feed_ag':'rougher.state.floatbank10_f_level']\n",
    ")\n",
    "\n",
    "\n",
    "#признаки для тестовой выборки на финальном этапе\n",
    "features_final_stage_test_1 = (\n",
    "df_gold_recovery_test_clear.\n",
    "    drop(df_gold_recovery_test_clear.\n",
    "         loc[:,'rougher.input.feed_ag':'rougher.state.floatbank10_f_level'], axis=1)\n",
    ")\n",
    "\n",
    "features_final_stage_test = features_final_stage_test_1.drop('date', axis=1)"
   ]
  },
  {
   "cell_type": "markdown",
   "metadata": {},
   "source": [
    "Проверим размерности полученных выборок:"
   ]
  },
  {
   "cell_type": "code",
   "execution_count": 57,
   "metadata": {
    "scrolled": false
   },
   "outputs": [
    {
     "name": "stdout",
     "output_type": "stream",
     "text": [
      "Размерность выборки для обучения на этапе флотации: (13789, 22)\n",
      "Размерность выборки для целевых параметров на этапе флотации: (13789,)\n",
      "Размерность выборки для обучения на финальном этапе: (13789, 30)\n",
      "Размерность выборки для целевых параметров на финальном этапе: (13789,)\n",
      "Размерность тестовой выборки на этапе флотации: (5290, 22)\n",
      "Размерность выборки для оценки качества на этапе флотации: (5290,)\n",
      "Размерность тестовой выборки на финальном этапе: (5290, 30)\n",
      "Размерность выборки для оценки качества на этапе флотации: (5290,)\n"
     ]
    }
   ],
   "source": [
    "print('Размерность выборки для обучения на этапе флотации:',features_rougher_stage_train.shape)\n",
    "print('Размерность выборки для целевых параметров на этапе флотации:',target_train_rougher_stage.shape)\n",
    "print('Размерность выборки для обучения на финальном этапе:',features_final_stage_train.shape)\n",
    "print('Размерность выборки для целевых параметров на финальном этапе:',target_train_final_stage.shape)\n",
    "\n",
    "print('Размерность тестовой выборки на этапе флотации:',features_rougher_stage_test.shape)\n",
    "print('Размерность выборки для оценки качества на этапе флотации:',target_recovery_test_rougher.shape)\n",
    "\n",
    "print('Размерность тестовой выборки на финальном этапе:',features_final_stage_test.shape)\n",
    "print('Размерность выборки для оценки качества на этапе флотации:',target_recovery_test_final.shape)\n"
   ]
  },
  {
   "cell_type": "markdown",
   "metadata": {},
   "source": [
    "### 3.3 Анализ размера гранул сырья"
   ]
  },
  {
   "cell_type": "markdown",
   "metadata": {},
   "source": [
    "Для проверки возможности будущей модели правильно выполнять оценку, проведем анализ распределения гранул сырья в обучающей и тестовой выборках:"
   ]
  },
  {
   "cell_type": "code",
   "execution_count": 59,
   "metadata": {},
   "outputs": [
    {
     "data": {
      "text/plain": [
       "Text(0, 0.5, 'Размер гранул сырья')"
      ]
     },
     "execution_count": 59,
     "metadata": {},
     "output_type": "execute_result"
    },
    {
     "data": {
      "image/png": "[encoded data removed]",
      "text/plain": [
       "<Figure size 1600x800 with 1 Axes>"
      ]
     },
     "metadata": {},
     "output_type": "display_data"
    }
   ],
   "source": [
    "fig, ax = plt.subplots(nrows=1, ncols=1, sharey=True, figsize=(16,8))\n",
    "features_rougher_stage_test.hist(column='rougher.input.feed_size', bins=1000, ax=ax)\n",
    "features_rougher_stage_train.hist(column='rougher.input.feed_size', bins=1000,alpha=0.5, ax=ax)\n",
    "\n",
    "ax.set_title('Диаграмма распределения размера гранул сырья', fontsize=15)\n",
    "ax.set_ylabel('Размер гранул сырья')"
   ]
  },
  {
   "cell_type": "markdown",
   "metadata": {},
   "source": [
    "При визуальном анализе распределений, видно что для обоих выработок размер гранул сырья лежит в одинаковых диапазонах. Следовательно преположительно оценка модели должна быть верной."
   ]
  },
  {
   "cell_type": "markdown",
   "metadata": {},
   "source": [
    "### Выводы:"
   ]
  },
  {
   "cell_type": "markdown",
   "metadata": {},
   "source": [
    "* По результатам анализа видно изменение концентраций на разных этапах отчиски. Медиана концентрации золота в сырье составляет 8.125 с ростом медианы концентрации на каждом последующем этапе и достижением 45.01 на финальном этапе. Также можно отметить небольшой рост концентации свинца после этапа флотации, отсуствия динамик на этах последующей отчистки. Динамика изменения концентраций серебра показывает увеличение значения на этапе флотации, и возвращение к исходным показателям на финальном этапе. \n",
    "\n",
    "* При визуальном анализе распределений, видно что для обоих выработок размер гранул сырья лежит в одинаковых диапазонах. Следовательно преположительно оценка модели должна быть верной.\n",
    "\n",
    "* Суммарная концентрация веществ увеличивается на стадии чернового концентрата, но на финальном этапе незначительно снижается (медиана на черновом концентрате составляет 70.1, на финальном 69.6, при этом размах значений на финальном этапе сокращается. Также отмечены нулевые значения, что может быть следствием отсуствия веществ на стадии сырья. \n",
    "\n",
    "* Убрали аномалии из обучающей выборки."
   ]
  },
  {
   "cell_type": "markdown",
   "metadata": {},
   "source": [
    "## 4. Модель"
   ]
  },
  {
   "cell_type": "markdown",
   "metadata": {},
   "source": [
    "### 4.1 Функция для вычисления итоговой метрики качества sMAPE"
   ]
  },
  {
   "cell_type": "markdown",
   "metadata": {},
   "source": [
    "Напишем функцию для вычисления sMAPE и итоговой метрики качества (итоговое sMAPE):"
   ]
  },
  {
   "cell_type": "code",
   "execution_count": 60,
   "metadata": {},
   "outputs": [],
   "source": [
    "def smape_score(target, prediction):\n",
    "    \n",
    "    \"\"\"\"\n",
    "    Функция расчета SMAPE\n",
    "    \n",
    "    \"\"\"\n",
    "    abs_difference = abs(target - prediction)\n",
    "    sum_of_abs = (abs(target) + abs(prediction)) / 2\n",
    "    total_sum =  (abs_difference / sum_of_abs).sum()\n",
    "    smape = total_sum / len(prediction)\n",
    "    return smape\n",
    "    "
   ]
  },
  {
   "cell_type": "code",
   "execution_count": 61,
   "metadata": {},
   "outputs": [],
   "source": [
    "def total_smape_score(smape_rough, smape_fin):\n",
    "    \n",
    "    \"\"\"\"\n",
    "    Функция расчета итогового SMAPE\n",
    "    \n",
    "    \"\"\"\n",
    "    \n",
    "    total_smape = 0.25 * smape_rough + 0.75 * smape_fin\n",
    "    return total_smape"
   ]
  },
  {
   "cell_type": "markdown",
   "metadata": {},
   "source": [
    "### 4.2 Обучение и сравнение моделей"
   ]
  },
  {
   "cell_type": "markdown",
   "metadata": {},
   "source": [
    "Обучим несколько моделей и проверим среднее качество каждой модели кросс-валидацией. С учетом того, что метрика качества sMAPE рассчитывается для коэффициента обогащения и на этапе флотации, и на финальном этапе,  напишем функции для кросс-валидации и оценки средней метрики качества:"
   ]
  },
  {
   "cell_type": "code",
   "execution_count": 62,
   "metadata": {},
   "outputs": [],
   "source": [
    "def cross_val (model, features, target):\n",
    "    scores = cross_val_score(model, features, target, scoring=make_scorer(smape_score, greater_is_better=False), cv=5)\n",
    "    final_score = pd.Series(abs(scores)).mean()\n",
    "    print(f'Средняя оценка качества модели: {final_score:,.1%}') \n",
    "    return final_score"
   ]
  },
  {
   "cell_type": "markdown",
   "metadata": {},
   "source": [
    "Выполним масштабирование признаков для этапа флотации и для финального этапа:"
   ]
  },
  {
   "cell_type": "code",
   "execution_count": 63,
   "metadata": {},
   "outputs": [],
   "source": [
    "numeric_rougher = features_rougher_stage_train.columns\n",
    "scalar_rougher = StandardScaler()\n",
    "scalar_rougher.fit(features_rougher_stage_train[numeric_rougher])\n",
    "features_rougher_stage_train[numeric_rougher] =  scalar_rougher.transform(features_rougher_stage_train[numeric_rougher])"
   ]
  },
  {
   "cell_type": "code",
   "execution_count": 64,
   "metadata": {},
   "outputs": [],
   "source": [
    "numeric_final= features_final_stage_train.columns\n",
    "scalar_final = StandardScaler()\n",
    "scalar_final.fit(features_final_stage_train[numeric_final])\n",
    "features_final_stage_train[numeric_final] =  scalar_final.transform(features_final_stage_train[numeric_final])"
   ]
  },
  {
   "cell_type": "markdown",
   "metadata": {},
   "source": [
    "### 4.2.1. Модель линейной регрессии (Linear Regression)"
   ]
  },
  {
   "cell_type": "markdown",
   "metadata": {},
   "source": [
    "Обучим модель линейной регрессии и проверим среднее качество модели кросс-валидацией:"
   ]
  },
  {
   "cell_type": "code",
   "execution_count": 65,
   "metadata": {},
   "outputs": [
    {
     "name": "stdout",
     "output_type": "stream",
     "text": [
      "Средняя оценка качества модели: 6.6%\n"
     ]
    }
   ],
   "source": [
    "model_lr_rougher = LinearRegression()\n",
    "\n",
    "lr_rougher = cross_val(model_lr_rougher, features_rougher_stage_train, target_train_rougher_stage )"
   ]
  },
  {
   "cell_type": "code",
   "execution_count": 66,
   "metadata": {},
   "outputs": [
    {
     "name": "stdout",
     "output_type": "stream",
     "text": [
      "Средняя оценка качества модели: 9.9%\n"
     ]
    }
   ],
   "source": [
    "model_lr_final = LinearRegression()\n",
    "\n",
    "lr_final = cross_val(model_lr_final, features_final_stage_train, target_train_final_stage )"
   ]
  },
  {
   "cell_type": "code",
   "execution_count": 67,
   "metadata": {},
   "outputs": [
    {
     "name": "stdout",
     "output_type": "stream",
     "text": [
      "Итоговое SMAPE линейной регрессии: 9.0%\n"
     ]
    }
   ],
   "source": [
    "total_smape_lr = total_smape_score(lr_rougher, lr_final)\n",
    "print(f'Итоговое SMAPE линейной регрессии: {total_smape_lr:,.1%}')"
   ]
  },
  {
   "cell_type": "markdown",
   "metadata": {},
   "source": [
    "### 4.2.2. Модель регрессии решающего дерева (DecisionTreeRegressor)"
   ]
  },
  {
   "cell_type": "markdown",
   "metadata": {},
   "source": [
    "Найдем модели регресии решающего дерева с лучшими гиперпараметрами для каждого этапа и вычислим итоговое sMAPE:"
   ]
  },
  {
   "cell_type": "code",
   "execution_count": 68,
   "metadata": {
    "scrolled": true
   },
   "outputs": [
    {
     "name": "stdout",
     "output_type": "stream",
     "text": [
      "Средняя оценка качества модели: 8.0%\n",
      "Средняя оценка качества модели: 7.5%\n",
      "Средняя оценка качества модели: 7.1%\n",
      "Средняя оценка качества модели: 7.1%\n",
      "Средняя оценка качества модели: 7.0%\n",
      "Средняя оценка качества модели: 7.1%\n",
      "Средняя оценка качества модели: 7.8%\n",
      "Средняя оценка качества модели: 8.5%\n",
      "Средняя оценка качества модели: 8.3%\n",
      "Средняя оценка качества модели: 8.0%\n",
      "Лучшая модель регрессии решающего дерева на этапе флотации с глубиной: 5\n",
      "Wall time: 5.25 s\n"
     ]
    }
   ],
   "source": [
    "%%time\n",
    "\n",
    "best_model_tree_rougher = None\n",
    "best_result_tree_rougher = 1\n",
    "\n",
    "for depth in range(1, 11):\n",
    "    model_tree_rougher = DecisionTreeRegressor(random_state=12345, max_depth=depth)\n",
    "    tree_rougher = cross_val(model_tree_rougher, features_rougher_stage_train, target_train_rougher_stage)\n",
    "    \n",
    "    if tree_rougher < best_result_tree_rougher:\n",
    "        best_model_tree_rougher = model_tree_rougher\n",
    "        best_result_tree_rougher = tree_rougher\n",
    "        best_depth = depth\n",
    "\n",
    "print('Лучшая модель регрессии решающего дерева на этапе флотации с глубиной:',best_depth)"
   ]
  },
  {
   "cell_type": "code",
   "execution_count": 69,
   "metadata": {
    "scrolled": true
   },
   "outputs": [
    {
     "name": "stdout",
     "output_type": "stream",
     "text": [
      "Средняя оценка качества модели: 10.1%\n",
      "Средняя оценка качества модели: 10.4%\n",
      "Средняя оценка качества модели: 11.3%\n",
      "Средняя оценка качества модели: 14.4%\n",
      "Средняя оценка качества модели: 14.1%\n",
      "Средняя оценка качества модели: 16.0%\n",
      "Средняя оценка качества модели: 16.2%\n",
      "Средняя оценка качества модели: 16.4%\n",
      "Средняя оценка качества модели: 14.6%\n",
      "Средняя оценка качества модели: 17.7%\n",
      "Лучшая модель регрессии решающего дерева на финальном этапе с глубиной: 1\n",
      "Wall time: 7.4 s\n"
     ]
    }
   ],
   "source": [
    "%%time\n",
    "\n",
    "best_model_tree_final = None\n",
    "best_result_tree_final = 1\n",
    "\n",
    "for depth in range(1, 11):\n",
    "    model_tree_final = DecisionTreeRegressor(random_state=12345, max_depth=depth)\n",
    "    tree_final = cross_val(model_tree_final, features_final_stage_train, target_train_final_stage)\n",
    "    \n",
    "    if tree_final < best_result_tree_final:\n",
    "        best_model_tree_final = model_tree_final\n",
    "        best_result_tree_final = tree_final\n",
    "        best_depth = depth\n",
    "\n",
    "print('Лучшая модель регрессии решающего дерева на финальном этапе с глубиной:',best_depth)"
   ]
  },
  {
   "cell_type": "code",
   "execution_count": 70,
   "metadata": {},
   "outputs": [
    {
     "name": "stdout",
     "output_type": "stream",
     "text": [
      "Итоговое SMAPE регрессии решающего дерева : 9.347%\n"
     ]
    }
   ],
   "source": [
    "total_smape_tree = total_smape_score(best_result_tree_rougher, best_result_tree_final)\n",
    "print(f'Итоговое SMAPE регрессии решающего дерева : {total_smape_tree:,.3%}')"
   ]
  },
  {
   "cell_type": "markdown",
   "metadata": {},
   "source": [
    "### 4.2.3. Модель регрессии Случайный лес (RandomForestRegressor)"
   ]
  },
  {
   "cell_type": "markdown",
   "metadata": {},
   "source": [
    "Найдем модели регресии Случайный лес с лучшими гиперпараметрами для каждого этапа и вычислим итоговое sMAPE:"
   ]
  },
  {
   "cell_type": "code",
   "execution_count": 71,
   "metadata": {},
   "outputs": [
    {
     "name": "stdout",
     "output_type": "stream",
     "text": [
      "Средняя оценка качества модели: 7.7%\n",
      "Средняя оценка качества модели: 6.7%\n",
      "Средняя оценка качества модели: 6.7%\n",
      "Средняя оценка качества модели: 7.8%\n",
      "Средняя оценка качества модели: 6.7%\n",
      "Средняя оценка качества модели: 6.7%\n",
      "Средняя оценка качества модели: 7.7%\n",
      "Средняя оценка качества модели: 6.7%\n",
      "Средняя оценка качества модели: 6.7%\n",
      "Лучшая модель регрессии на этапе флотации c кол-вом деревьев 700 и глубиной 4\n",
      "Wall time: 13min 54s\n"
     ]
    }
   ],
   "source": [
    "%%time\n",
    "\n",
    "best_model_rf_rougher = None\n",
    "best_result_rf_rougher = 1\n",
    "\n",
    "for est in range(100, 900, 300):\n",
    "        for depth in range(1, 10, 3):\n",
    "            model_rf_rougher = RandomForestRegressor(random_state=12345, n_estimators=est, max_depth=depth)\n",
    "            rf_rougher = cross_val(model_rf_rougher, features_rougher_stage_train, target_train_rougher_stage)\n",
    "    \n",
    "            if rf_rougher < best_result_rf_rougher:\n",
    "                best_model_rf_rougher = model_rf_rougher\n",
    "                best_result_rf_rougher = rf_rougher\n",
    "                best_estimators_rf = est\n",
    "                best_depth = depth\n",
    "\n",
    "print(f'Лучшая модель регрессии на этапе флотации c кол-вом деревьев {best_estimators_rf} и глубиной {best_depth}')"
   ]
  },
  {
   "cell_type": "code",
   "execution_count": 72,
   "metadata": {
    "scrolled": true
   },
   "outputs": [
    {
     "name": "stdout",
     "output_type": "stream",
     "text": [
      "Средняя оценка качества модели: 10.0%\n",
      "Средняя оценка качества модели: 11.6%\n",
      "Средняя оценка качества модели: 12.0%\n",
      "Средняя оценка качества модели: 10.0%\n",
      "Средняя оценка качества модели: 11.4%\n",
      "Средняя оценка качества модели: 12.0%\n",
      "Средняя оценка качества модели: 10.0%\n",
      "Средняя оценка качества модели: 11.4%\n",
      "Средняя оценка качества модели: 12.0%\n",
      "Лучшая модель регрессии на финальном этапе c кол-вом деревьев 400 и глубиной 1\n",
      "Wall time: 15min 53s\n"
     ]
    }
   ],
   "source": [
    "%%time\n",
    "\n",
    "best_model_rf_final = None\n",
    "best_result_rf_final = 1\n",
    "\n",
    "for est in range(100, 900, 300):\n",
    "        for depth in range(1, 10, 3):\n",
    "            model_rf_final = RandomForestRegressor(random_state=12345, n_estimators=est, max_depth=depth)\n",
    "            rf_final = cross_val(model_rf_final, features_final_stage_train, target_train_final_stage)\n",
    "    \n",
    "            if rf_final < best_result_rf_final:\n",
    "                best_model_rf_final = model_rf_final\n",
    "                best_result_rf_final = rf_final\n",
    "                best_estimators_rf_final = est\n",
    "                best_depth_final = depth\n",
    "\n",
    "print(f'Лучшая модель регрессии на финальном этапе c кол-вом деревьев {best_estimators_rf_final} и глубиной {best_depth_final}')"
   ]
  },
  {
   "cell_type": "code",
   "execution_count": 73,
   "metadata": {},
   "outputs": [
    {
     "name": "stdout",
     "output_type": "stream",
     "text": [
      "Итоговое SMAPE регрессии решающего дерева : 9.157%\n"
     ]
    }
   ],
   "source": [
    "total_smape_rf = total_smape_score(best_result_rf_rougher, best_result_rf_final)\n",
    "print(f'Итоговое SMAPE регрессии решающего дерева : {total_smape_rf:,.3%}')"
   ]
  },
  {
   "cell_type": "markdown",
   "metadata": {},
   "source": [
    "### 4.2.4. Dummy модель (Стационарная модель)"
   ]
  },
  {
   "cell_type": "markdown",
   "metadata": {},
   "source": [
    "Поверим адекватность моделей, сравнив их со стационарной:"
   ]
  },
  {
   "cell_type": "code",
   "execution_count": 74,
   "metadata": {},
   "outputs": [
    {
     "name": "stdout",
     "output_type": "stream",
     "text": [
      "Средняя оценка качества модели: 7.8%\n"
     ]
    }
   ],
   "source": [
    "model_dummy_rougher = DummyRegressor(strategy='mean')\n",
    "\n",
    "dummy_rougher = cross_val(model_dummy_rougher, features_rougher_stage_train, target_train_rougher_stage )"
   ]
  },
  {
   "cell_type": "code",
   "execution_count": 75,
   "metadata": {},
   "outputs": [
    {
     "name": "stdout",
     "output_type": "stream",
     "text": [
      "Средняя оценка качества модели: 10.4%\n"
     ]
    }
   ],
   "source": [
    "model_dummy_final = DummyRegressor(strategy='mean')\n",
    "\n",
    "dummy_final = cross_val(model_dummy_final, features_final_stage_train, target_train_final_stage )"
   ]
  },
  {
   "cell_type": "code",
   "execution_count": 76,
   "metadata": {},
   "outputs": [
    {
     "name": "stdout",
     "output_type": "stream",
     "text": [
      "Итоговое SMAPE стационарной модели : 9.767%\n"
     ]
    }
   ],
   "source": [
    "total_smape_dummy = total_smape_score(dummy_rougher, dummy_final)\n",
    "print(f'Итоговое SMAPE стационарной модели : {total_smape_dummy:,.3%}')"
   ]
  },
  {
   "cell_type": "markdown",
   "metadata": {},
   "source": [
    "Сведем полученные результаты в таблицу:"
   ]
  },
  {
   "cell_type": "code",
   "execution_count": 77,
   "metadata": {},
   "outputs": [
    {
     "data": {
      "text/html": [
       "<div>\n",
       "<style scoped>\n",
       "    .dataframe tbody tr th:only-of-type {\n",
       "        vertical-align: middle;\n",
       "    }\n",
       "\n",
       "    .dataframe tbody tr th {\n",
       "        vertical-align: top;\n",
       "    }\n",
       "\n",
       "    .dataframe thead th {\n",
       "        text-align: right;\n",
       "    }\n",
       "</style>\n",
       "<table border=\"1\" class=\"dataframe\">\n",
       "  <thead>\n",
       "    <tr style=\"text-align: right;\">\n",
       "      <th></th>\n",
       "      <th>Total_SMAPE</th>\n",
       "    </tr>\n",
       "  </thead>\n",
       "  <tbody>\n",
       "    <tr>\n",
       "      <th>LinearRegression</th>\n",
       "      <td>0.090362</td>\n",
       "    </tr>\n",
       "    <tr>\n",
       "      <th>DecisionTree</th>\n",
       "      <td>0.093472</td>\n",
       "    </tr>\n",
       "    <tr>\n",
       "      <th>RandomForest</th>\n",
       "      <td>0.091570</td>\n",
       "    </tr>\n",
       "    <tr>\n",
       "      <th>Dummy</th>\n",
       "      <td>0.097671</td>\n",
       "    </tr>\n",
       "  </tbody>\n",
       "</table>\n",
       "</div>"
      ],
      "text/plain": [
       "                  Total_SMAPE\n",
       "LinearRegression     0.090362\n",
       "DecisionTree         0.093472\n",
       "RandomForest         0.091570\n",
       "Dummy                0.097671"
      ]
     },
     "metadata": {},
     "output_type": "display_data"
    }
   ],
   "source": [
    "results = {'Total_SMAPE': [total_smape_lr, total_smape_tree, total_smape_rf, total_smape_dummy]}\n",
    "\n",
    "train_results = pd.DataFrame(data=results, index=['LinearRegression','DecisionTree','RandomForest','Dummy'])\n",
    "\n",
    "display(train_results)"
   ]
  },
  {
   "cell_type": "markdown",
   "metadata": {},
   "source": [
    "### Вывод:"
   ]
  },
  {
   "cell_type": "markdown",
   "metadata": {},
   "source": [
    "* Написана функция для вычисления sMAPE и итоговой метрики качества (итоговое sMAPE).\n",
    "\n",
    "* Выполнено масштабирование признаков.\n",
    "\n",
    "* Рассмотрено и обучено три типа моделей: Линейная регрессия, Регрессия Решающего дерева и Регрессия Случайный лес. Определены лучшие гиперпараметры. Произведено сравнение со стационарной моделью.\n",
    "\n",
    "* По резульататом метрики качества (итоговая sMAPE) определено, что лучшая модель - Линейная регрессия sMAPE = 9.03 %.\n",
    "\n",
    "* Вторая лучшая модель - Регрессия Случайный лес со следующими гиперпараметрами и sMAPE = 9.15 %:\n",
    "\n",
    "  - На стадии флотации: Число деревьев 700 глубина 4;\n",
    "  - На финальной стадии: Число деревьев 400 глубина 1.\n",
    "  \n",
    "* Стационарная модель имеет итоговое sMAPE = 9.76 %, что хуже чем выбранная модель, поэтому можно предполагать, что подготовленная модель Регрессия Случайный лес показывает лучший результат."
   ]
  },
  {
   "cell_type": "markdown",
   "metadata": {},
   "source": [
    "## 5. Проверка лучшей модели"
   ]
  },
  {
   "cell_type": "markdown",
   "metadata": {},
   "source": [
    "Выполним проверку выбранной лучшей модели Линейная регрессия :"
   ]
  },
  {
   "cell_type": "code",
   "execution_count": 78,
   "metadata": {
    "scrolled": true
   },
   "outputs": [
    {
     "name": "stdout",
     "output_type": "stream",
     "text": [
      "sMAPE на этапе флотации на тестовой выборке: 13.391%\n",
      "Wall time: 18 ms\n"
     ]
    }
   ],
   "source": [
    "%%time\n",
    "\n",
    "features_rougher_stage_test[numeric_rougher] =  scalar_rougher.transform(features_rougher_stage_test[numeric_rougher])\n",
    "\n",
    "best_model_rougher = LinearRegression()\n",
    "best_model_rougher.fit(features_rougher_stage_train, target_train_rougher_stage)\n",
    "prediction_rougher = best_model_rougher.predict(features_rougher_stage_test)\n",
    "test_smape_rougher = smape_score(target_recovery_test_rougher, prediction_rougher)\n",
    "print(f'sMAPE на этапе флотации на тестовой выборке: {test_smape_rougher:,.3%}')"
   ]
  },
  {
   "cell_type": "code",
   "execution_count": 79,
   "metadata": {
    "scrolled": true
   },
   "outputs": [
    {
     "name": "stdout",
     "output_type": "stream",
     "text": [
      "sMAPE на финальном этапе на тестовой выборке: 10.194%\n",
      "Wall time: 18.8 ms\n"
     ]
    }
   ],
   "source": [
    "%%time\n",
    "\n",
    "features_final_stage_test[numeric_final] =  scalar_final.transform(features_final_stage_test[numeric_final])\n",
    "\n",
    "best_model_final = LinearRegression()\n",
    "best_model_final.fit(features_final_stage_train, target_train_final_stage)\n",
    "prediction_final = best_model_final.predict(features_final_stage_test)\n",
    "test_smape_final = smape_score(target_recovery_test_final, prediction_final)\n",
    "print(f'sMAPE на финальном этапе на тестовой выборке: {test_smape_final:,.3%}')"
   ]
  },
  {
   "cell_type": "code",
   "execution_count": 80,
   "metadata": {},
   "outputs": [
    {
     "name": "stdout",
     "output_type": "stream",
     "text": [
      "Итоговое SMAPE на тестовой выборке : 10.993%\n"
     ]
    }
   ],
   "source": [
    "total_smape_test = total_smape_score(test_smape_rougher, test_smape_final)\n",
    "print(f'Итоговое SMAPE на тестовой выборке : {total_smape_test:,.3%}')"
   ]
  },
  {
   "cell_type": "code",
   "execution_count": 81,
   "metadata": {},
   "outputs": [
    {
     "name": "stdout",
     "output_type": "stream",
     "text": [
      "sMAPE на этапе флотации на тестовой выборке стационарной модели: 12.289%\n"
     ]
    }
   ],
   "source": [
    "test_dummy_model_rougher = DummyRegressor(strategy='mean')\n",
    "test_dummy_model_rougher.fit(features_rougher_stage_train, target_train_rougher_stage)\n",
    "dummy_test_prediction_rougher = test_dummy_model_rougher.predict(features_rougher_stage_test)\n",
    "test_dummy_smape_rougher = smape_score(target_recovery_test_rougher, dummy_test_prediction_rougher)\n",
    "print(f'sMAPE на этапе флотации на тестовой выборке стационарной модели: {test_dummy_smape_rougher:,.3%}')"
   ]
  },
  {
   "cell_type": "code",
   "execution_count": 82,
   "metadata": {},
   "outputs": [
    {
     "name": "stdout",
     "output_type": "stream",
     "text": [
      "sMAPE на финальном этапе на тестовой выборке стационарной модели: 10.079%\n"
     ]
    }
   ],
   "source": [
    "test_dummy_model_final = DummyRegressor(strategy='mean')\n",
    "test_dummy_model_final.fit(features_final_stage_train, target_train_final_stage)\n",
    "dummy_test_prediction_final = test_dummy_model_final.predict(features_final_stage_test)\n",
    "test_dummy_smape_final = smape_score(target_recovery_test_final, dummy_test_prediction_final)\n",
    "print(f'sMAPE на финальном этапе на тестовой выборке стационарной модели: {test_dummy_smape_final:,.3%}')"
   ]
  },
  {
   "cell_type": "code",
   "execution_count": 83,
   "metadata": {},
   "outputs": [
    {
     "name": "stdout",
     "output_type": "stream",
     "text": [
      "Итоговое SMAPE на тестовой выборке : 10.631%\n"
     ]
    }
   ],
   "source": [
    "total_smape_test_dummy = total_smape_score(test_dummy_smape_rougher, test_dummy_smape_final)\n",
    "print(f'Итоговое SMAPE на тестовой выборке : {total_smape_test_dummy:,.3%}')"
   ]
  },
  {
   "cell_type": "markdown",
   "metadata": {},
   "source": [
    "## 6. Выводы\n",
    "\n",
    "***На этапе обзора и подготовки данных***:\n",
    "\n",
    "* Выполнен обзор данных. Имеется 3 таблицы данны: тестовая выборка, обучающая выборка и полная выборка.\n",
    "\n",
    "    \n",
    "* **Для обучающей выборки:**\n",
    "В таблице 87 столбцов и 14149 строк, имеются нулевые значения (или пропущенные) в ряде столбцов. Типы данных: 86       столбцов с вещественными значениями типа float64, 1 столбец со строковым типом object. Используемый объем памяти 10.3    MB. \n",
    "\n",
    "\n",
    "* **Для тестовой выборки:**\n",
    "В таблице 53 столбцов и 5290 строк, имеются нулевые значения (или пропущенные) в ряде столбцов. Типы данных: 52 столбцов с вещественными значениями типа float64, 1 столбец со строковым типом object. Используемый объем памяти 2.5 MB. \n",
    "\n",
    "\n",
    "* **Для полной выборки:**\n",
    "В таблице 87 столбцов и 19439 строк, имеются нулевые значения (или пропущенные) в ряде столбцов. Типы данных: 86 столбцов с вещественными значениями типа float64, 1 столбец со строковым типом object. Используемый объем памяти 14.2 MB. \n",
    "\n",
    "\n",
    "\n",
    "* Проверена правильность расчета эффективности обогащения `rougher.output.recovery`  на обучающей выборке, MAE = 9.73e-15\n",
    "\n",
    "* Обнаружены пропущенные значения во всех табицах.\n",
    "\n",
    "* Обнаружено, что тестовая выборка не содержит 34 признака из обучающей выборки,что связано с невозможность получить данные до конца технологического процесса. При анализе \"выбывших\" признаков можно отметить, что это признаки выходных параметров (тип `outputs`) каждого этапа технологического процесса, а именно доли металлов в концентрате и хвостах после флотации, первичной отчиски и вторичной отчиски. Также в список выбывших признаков попали расчетные значения (тип `calculation`) для этапа флотации. Также отметим, что в списке выбывших имеется эффективность обогащения финального и чернового концентрата `final.output.recovery` и `rougher.output.recovery` соотвестенно.\n",
    "\n",
    "\n",
    "* В рамках подготовки данных было выполнено:\n",
    "    -   Удалены отсуствующие в тестовой выборке признаки из обучающей выборки;\n",
    "    -   Удалены столбцы, которые не являются признакми для обучения модели, это `date`;\n",
    "    -   Выделены обучающая и тесовая выборки для обучения моделей на этапе флотации и на финальном этапе;\n",
    "    -   Из полной выборки выделены выделены выборки из соотвествующих целевых признаков для обучения моделей на этапе флотации и на финальном этапе;\n",
    "    - Из полной выборки выделены целевые коэффициенты обогащения для проерки качества моделей.\n",
    "    - Во всех выборках устранены пропущенные значения.\n",
    "    \n",
    "\n",
    "***На этапе исследовательского анализа***:\n",
    "\n",
    "* По результатам анализа видно изменение концентраций на разных этапах отчиски. Медиана концентрации золота в сырье составляет 8.125 с ростом медианы концентрации на каждом последующем этапе и достижением 45.01 на финальном этапе. Также можно отметить небольшой рост концентации свинца после этапа флотации, отсуствия динамик на этах последующей отчистки. Динамика изменения концентраций серебра показывает увеличение значения на этапе флотации, и возвращение к исходным показателям на финальном этапе. \n",
    "\n",
    "* При визуальном анализе распределений, видно что для обоих выработок размер гранул сырья лежит в одинаковых диапазонах. Следовательно преположительно оценка модели должна быть верной.\n",
    "\n",
    "* Суммарная концентрация веществ увеличивается на стадии чернового концентрата, но на финальном этапе незначительно снижается (медиана на черновом концентрате составляет 70.1, на финальном 69.6, при этом размах значений на финальном этапе сокращается. Также отмечены нулевые значения, что может быть следствием отсуствия веществ на стадии сырья. Удалены аномалии с нулевыми значениями и околонулевыми значениями концентраций.\n",
    "\n",
    "\n",
    "***На этапе выбора и обучения модели***:\n",
    "\n",
    "* Написана функция для вычисления sMAPE и итоговой метрики качества (итоговое sMAPE).\n",
    "\n",
    "* Выполнено масштабирование признаков.\n",
    "\n",
    "* Рассмотрено и обучено три типа моделей: Линейная регрессия, Регрессия Решающего дерева и Регрессия Случайный лес. Определены лучшие гиперпараметры. Произведено сравнение со стационарной моделью.\n",
    "\n",
    "* По резульататом метрики качества (итоговая sMAPE) определено, что лучшая модель - Линейная регрессия sMAPE = 9.03 %.\n",
    "\n",
    "* Вторая лучшая модель - Регрессия Случайный лес со следующими гиперпараметрами и sMAPE = 9.15 %:\n",
    "\n",
    "  - На стадии флотации: Число деревьев 700 глубина 4;\n",
    "  - На финальной стадии: Число деревьев 400 глубина 1.\n",
    "  \n",
    "* Стационарная модель имеет итоговое sMAPE = 9.76 %, что хуже чем выбранная модель, поэтому можно предполагать, что подготовленная модель Регрессия Случайный лес показывает лучший результат.\n",
    "\n",
    "* На этапе тестирования лучшей модели получена итоговая sMAPE = 10.79 %.\n"
   ]
  }
 ],
 "metadata": {
  "ExecuteTimeLog": [
   {
    "duration": 1838,
    "start_time": "2022-06-02T10:43:09.579Z"
   },
   {
    "duration": 877,
    "start_time": "2022-06-02T10:43:11.419Z"
   },
   {
    "duration": 4,
    "start_time": "2022-06-02T10:43:12.298Z"
   },
   {
    "duration": 6,
    "start_time": "2022-06-02T10:43:12.305Z"
   },
   {
    "duration": 31,
    "start_time": "2022-06-02T10:43:12.313Z"
   },
   {
    "duration": 115,
    "start_time": "2022-06-02T10:43:12.346Z"
   },
   {
    "duration": 0,
    "start_time": "2022-06-02T10:43:12.463Z"
   },
   {
    "duration": 1,
    "start_time": "2022-06-02T10:43:12.464Z"
   },
   {
    "duration": 0,
    "start_time": "2022-06-02T10:43:12.465Z"
   },
   {
    "duration": 0,
    "start_time": "2022-06-02T10:43:12.466Z"
   },
   {
    "duration": 0,
    "start_time": "2022-06-02T10:43:12.467Z"
   },
   {
    "duration": 0,
    "start_time": "2022-06-02T10:43:12.475Z"
   },
   {
    "duration": 0,
    "start_time": "2022-06-02T10:43:12.476Z"
   },
   {
    "duration": 0,
    "start_time": "2022-06-02T10:43:12.477Z"
   },
   {
    "duration": 0,
    "start_time": "2022-06-02T10:43:12.478Z"
   },
   {
    "duration": 0,
    "start_time": "2022-06-02T10:43:12.479Z"
   },
   {
    "duration": 0,
    "start_time": "2022-06-02T10:43:12.479Z"
   },
   {
    "duration": 0,
    "start_time": "2022-06-02T10:43:12.481Z"
   },
   {
    "duration": 0,
    "start_time": "2022-06-02T10:43:12.481Z"
   },
   {
    "duration": 0,
    "start_time": "2022-06-02T10:43:12.483Z"
   },
   {
    "duration": 0,
    "start_time": "2022-06-02T10:43:12.485Z"
   },
   {
    "duration": 0,
    "start_time": "2022-06-02T10:43:12.486Z"
   },
   {
    "duration": 0,
    "start_time": "2022-06-02T10:43:12.487Z"
   },
   {
    "duration": 0,
    "start_time": "2022-06-02T10:43:12.488Z"
   },
   {
    "duration": 1,
    "start_time": "2022-06-02T10:43:12.488Z"
   },
   {
    "duration": 0,
    "start_time": "2022-06-02T10:43:12.489Z"
   },
   {
    "duration": 0,
    "start_time": "2022-06-02T10:43:12.490Z"
   },
   {
    "duration": 0,
    "start_time": "2022-06-02T10:43:12.491Z"
   },
   {
    "duration": 0,
    "start_time": "2022-06-02T10:43:12.491Z"
   },
   {
    "duration": 0,
    "start_time": "2022-06-02T10:43:12.492Z"
   },
   {
    "duration": 0,
    "start_time": "2022-06-02T10:43:12.492Z"
   },
   {
    "duration": 0,
    "start_time": "2022-06-02T10:43:12.492Z"
   },
   {
    "duration": 0,
    "start_time": "2022-06-02T10:43:12.498Z"
   },
   {
    "duration": 1,
    "start_time": "2022-06-02T10:43:12.499Z"
   },
   {
    "duration": 0,
    "start_time": "2022-06-02T10:43:12.501Z"
   },
   {
    "duration": 0,
    "start_time": "2022-06-02T10:43:12.502Z"
   },
   {
    "duration": 0,
    "start_time": "2022-06-02T10:43:12.503Z"
   },
   {
    "duration": 0,
    "start_time": "2022-06-02T10:43:12.508Z"
   },
   {
    "duration": 0,
    "start_time": "2022-06-02T10:43:12.510Z"
   },
   {
    "duration": 0,
    "start_time": "2022-06-02T10:43:12.511Z"
   },
   {
    "duration": 0,
    "start_time": "2022-06-02T10:43:12.513Z"
   },
   {
    "duration": 0,
    "start_time": "2022-06-02T10:43:12.514Z"
   },
   {
    "duration": 1,
    "start_time": "2022-06-02T10:43:12.515Z"
   },
   {
    "duration": 0,
    "start_time": "2022-06-02T10:43:12.517Z"
   },
   {
    "duration": 5,
    "start_time": "2022-06-02T10:45:12.547Z"
   },
   {
    "duration": 320,
    "start_time": "2022-06-02T10:45:12.573Z"
   },
   {
    "duration": 391,
    "start_time": "2022-06-02T10:45:12.895Z"
   },
   {
    "duration": 1735,
    "start_time": "2022-06-02T10:45:13.288Z"
   },
   {
    "duration": 17,
    "start_time": "2022-06-02T10:45:15.025Z"
   },
   {
    "duration": 12,
    "start_time": "2022-06-02T10:45:15.044Z"
   },
   {
    "duration": 24,
    "start_time": "2022-06-02T10:45:15.057Z"
   },
   {
    "duration": 24,
    "start_time": "2022-06-02T10:45:15.083Z"
   },
   {
    "duration": 264,
    "start_time": "2022-06-02T10:45:15.109Z"
   },
   {
    "duration": 5,
    "start_time": "2022-06-02T10:45:15.374Z"
   },
   {
    "duration": 16,
    "start_time": "2022-06-02T10:45:15.382Z"
   },
   {
    "duration": 42,
    "start_time": "2022-06-02T10:45:15.401Z"
   },
   {
    "duration": 5,
    "start_time": "2022-06-02T10:45:15.445Z"
   },
   {
    "duration": 24,
    "start_time": "2022-06-02T10:45:15.451Z"
   },
   {
    "duration": 7,
    "start_time": "2022-06-02T10:45:15.477Z"
   },
   {
    "duration": 10,
    "start_time": "2022-06-02T10:45:15.486Z"
   },
   {
    "duration": 12,
    "start_time": "2022-06-02T10:45:15.497Z"
   },
   {
    "duration": 12,
    "start_time": "2022-06-02T10:45:15.510Z"
   },
   {
    "duration": 0,
    "start_time": "2022-06-02T10:45:15.525Z"
   },
   {
    "duration": 0,
    "start_time": "2022-06-02T10:45:15.526Z"
   },
   {
    "duration": 0,
    "start_time": "2022-06-02T10:45:15.527Z"
   },
   {
    "duration": 0,
    "start_time": "2022-06-02T10:45:15.529Z"
   },
   {
    "duration": 0,
    "start_time": "2022-06-02T10:45:15.530Z"
   },
   {
    "duration": 0,
    "start_time": "2022-06-02T10:45:15.531Z"
   },
   {
    "duration": 0,
    "start_time": "2022-06-02T10:45:15.533Z"
   },
   {
    "duration": 0,
    "start_time": "2022-06-02T10:45:15.534Z"
   },
   {
    "duration": 0,
    "start_time": "2022-06-02T10:45:15.536Z"
   },
   {
    "duration": 0,
    "start_time": "2022-06-02T10:45:15.537Z"
   },
   {
    "duration": 0,
    "start_time": "2022-06-02T10:45:15.575Z"
   },
   {
    "duration": 0,
    "start_time": "2022-06-02T10:45:15.576Z"
   },
   {
    "duration": 0,
    "start_time": "2022-06-02T10:45:15.578Z"
   },
   {
    "duration": 0,
    "start_time": "2022-06-02T10:45:15.578Z"
   },
   {
    "duration": 0,
    "start_time": "2022-06-02T10:45:15.579Z"
   },
   {
    "duration": 0,
    "start_time": "2022-06-02T10:45:15.580Z"
   },
   {
    "duration": 0,
    "start_time": "2022-06-02T10:45:15.582Z"
   },
   {
    "duration": 0,
    "start_time": "2022-06-02T10:45:15.583Z"
   },
   {
    "duration": 0,
    "start_time": "2022-06-02T10:45:15.584Z"
   },
   {
    "duration": 0,
    "start_time": "2022-06-02T10:45:15.585Z"
   },
   {
    "duration": 0,
    "start_time": "2022-06-02T10:45:15.586Z"
   },
   {
    "duration": 0,
    "start_time": "2022-06-02T10:45:15.586Z"
   },
   {
    "duration": 0,
    "start_time": "2022-06-02T10:45:15.588Z"
   },
   {
    "duration": 0,
    "start_time": "2022-06-02T10:45:15.589Z"
   },
   {
    "duration": 0,
    "start_time": "2022-06-02T10:45:15.590Z"
   },
   {
    "duration": 0,
    "start_time": "2022-06-02T10:45:15.591Z"
   },
   {
    "duration": 12,
    "start_time": "2022-06-02T10:46:31.576Z"
   },
   {
    "duration": 5,
    "start_time": "2022-06-02T10:47:19.479Z"
   },
   {
    "duration": 1403,
    "start_time": "2022-06-02T10:47:41.692Z"
   },
   {
    "duration": 267,
    "start_time": "2022-06-02T10:47:43.097Z"
   },
   {
    "duration": 75,
    "start_time": "2022-06-02T10:47:43.365Z"
   },
   {
    "duration": 343,
    "start_time": "2022-06-02T10:47:43.443Z"
   },
   {
    "duration": 19,
    "start_time": "2022-06-02T10:47:43.788Z"
   },
   {
    "duration": 13,
    "start_time": "2022-06-02T10:47:43.809Z"
   },
   {
    "duration": 20,
    "start_time": "2022-06-02T10:47:43.824Z"
   },
   {
    "duration": 57,
    "start_time": "2022-06-02T10:47:43.846Z"
   },
   {
    "duration": 9,
    "start_time": "2022-06-02T10:47:43.905Z"
   },
   {
    "duration": 12,
    "start_time": "2022-06-02T10:47:43.916Z"
   },
   {
    "duration": 16,
    "start_time": "2022-06-02T10:47:43.929Z"
   },
   {
    "duration": 64,
    "start_time": "2022-06-02T10:47:43.946Z"
   },
   {
    "duration": 7,
    "start_time": "2022-06-02T10:47:44.012Z"
   },
   {
    "duration": 8,
    "start_time": "2022-06-02T10:47:44.021Z"
   },
   {
    "duration": 10,
    "start_time": "2022-06-02T10:47:44.031Z"
   },
   {
    "duration": 9,
    "start_time": "2022-06-02T10:47:44.042Z"
   },
   {
    "duration": 22,
    "start_time": "2022-06-02T10:47:44.053Z"
   },
   {
    "duration": 4,
    "start_time": "2022-06-02T10:47:44.077Z"
   },
   {
    "duration": 12,
    "start_time": "2022-06-02T10:47:44.083Z"
   },
   {
    "duration": 10,
    "start_time": "2022-06-02T10:47:44.096Z"
   },
   {
    "duration": 603,
    "start_time": "2022-06-02T10:47:44.107Z"
   },
   {
    "duration": 20,
    "start_time": "2022-06-02T10:47:44.712Z"
   },
   {
    "duration": 18,
    "start_time": "2022-06-02T10:47:44.734Z"
   },
   {
    "duration": 38,
    "start_time": "2022-06-02T10:47:44.754Z"
   },
   {
    "duration": 20,
    "start_time": "2022-06-02T10:47:44.793Z"
   },
   {
    "duration": 266,
    "start_time": "2022-06-02T10:47:44.814Z"
   },
   {
    "duration": 0,
    "start_time": "2022-06-02T10:47:45.082Z"
   },
   {
    "duration": 0,
    "start_time": "2022-06-02T10:47:45.083Z"
   },
   {
    "duration": 0,
    "start_time": "2022-06-02T10:47:45.085Z"
   },
   {
    "duration": 0,
    "start_time": "2022-06-02T10:47:45.086Z"
   },
   {
    "duration": 0,
    "start_time": "2022-06-02T10:47:45.087Z"
   },
   {
    "duration": 0,
    "start_time": "2022-06-02T10:47:45.088Z"
   },
   {
    "duration": 0,
    "start_time": "2022-06-02T10:47:45.088Z"
   },
   {
    "duration": 0,
    "start_time": "2022-06-02T10:47:45.089Z"
   },
   {
    "duration": 0,
    "start_time": "2022-06-02T10:47:45.091Z"
   },
   {
    "duration": 0,
    "start_time": "2022-06-02T10:47:45.091Z"
   },
   {
    "duration": 0,
    "start_time": "2022-06-02T10:47:45.093Z"
   },
   {
    "duration": 0,
    "start_time": "2022-06-02T10:47:45.094Z"
   },
   {
    "duration": 0,
    "start_time": "2022-06-02T10:47:45.095Z"
   },
   {
    "duration": 0,
    "start_time": "2022-06-02T10:47:45.097Z"
   },
   {
    "duration": 0,
    "start_time": "2022-06-02T10:47:45.098Z"
   },
   {
    "duration": 0,
    "start_time": "2022-06-02T10:47:45.099Z"
   },
   {
    "duration": 0,
    "start_time": "2022-06-02T10:47:45.100Z"
   },
   {
    "duration": 0,
    "start_time": "2022-06-02T10:47:45.101Z"
   },
   {
    "duration": 5,
    "start_time": "2022-06-02T10:48:29.591Z"
   },
   {
    "duration": 5,
    "start_time": "2022-06-02T10:48:30.376Z"
   },
   {
    "duration": 5,
    "start_time": "2022-06-02T10:48:31.037Z"
   },
   {
    "duration": 211,
    "start_time": "2022-06-02T10:48:32.636Z"
   },
   {
    "duration": 30,
    "start_time": "2022-06-02T10:48:33.301Z"
   },
   {
    "duration": 15,
    "start_time": "2022-06-02T10:48:38.515Z"
   },
   {
    "duration": 5,
    "start_time": "2022-06-02T10:48:41.376Z"
   },
   {
    "duration": 6,
    "start_time": "2022-06-02T10:48:42.108Z"
   },
   {
    "duration": 11,
    "start_time": "2022-06-02T10:48:42.780Z"
   },
   {
    "duration": 3,
    "start_time": "2022-06-02T10:48:43.436Z"
   },
   {
    "duration": 11,
    "start_time": "2022-06-02T10:48:44.809Z"
   },
   {
    "duration": 6,
    "start_time": "2022-06-02T10:48:46.820Z"
   },
   {
    "duration": 6,
    "start_time": "2022-06-02T10:48:48.795Z"
   },
   {
    "duration": 4,
    "start_time": "2022-06-02T10:48:53.874Z"
   },
   {
    "duration": 3,
    "start_time": "2022-06-02T10:48:56.900Z"
   },
   {
    "duration": 4,
    "start_time": "2022-06-02T10:48:59.874Z"
   },
   {
    "duration": 18,
    "start_time": "2022-06-02T10:49:03.043Z"
   },
   {
    "duration": 18,
    "start_time": "2022-06-02T10:49:04.472Z"
   },
   {
    "duration": 98,
    "start_time": "2022-06-02T10:49:17.678Z"
   },
   {
    "duration": 149,
    "start_time": "2022-06-02T10:49:19.230Z"
   },
   {
    "duration": 4,
    "start_time": "2022-06-02T10:49:20.285Z"
   },
   {
    "duration": 6,
    "start_time": "2022-06-02T10:49:33.998Z"
   },
   {
    "duration": 7,
    "start_time": "2022-06-02T10:49:36.099Z"
   },
   {
    "duration": 3,
    "start_time": "2022-06-02T10:49:38.115Z"
   }
  ],
  "kernelspec": {
   "display_name": "Python 3 (ipykernel)",
   "language": "python",
   "name": "python3"
  },
  "language_info": {
   "codemirror_mode": {
    "name": "ipython",
    "version": 3
   },
   "file_extension": ".py",
   "mimetype": "text/x-python",
   "name": "python",
   "nbconvert_exporter": "python",
   "pygments_lexer": "ipython3",
   "version": "3.9.7"
  },
  "toc": {
   "base_numbering": 1,
   "nav_menu": {},
   "number_sections": true,
   "sideBar": true,
   "skip_h1_title": true,
   "title_cell": "Содержание",
   "title_sidebar": "Contents",
   "toc_cell": true,
   "toc_position": {
    "height": "calc(100% - 180px)",
    "left": "10px",
    "top": "150px",
    "width": "165px"
   },
   "toc_section_display": true,
   "toc_window_display": true
  }
 },
 "nbformat": 4,
 "nbformat_minor": 2
}
